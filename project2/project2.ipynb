{
 "cells": [
  {
   "cell_type": "markdown",
   "id": "fe5cf3ce",
   "metadata": {},
   "source": [
    "### Tasks"
   ]
  },
  {
   "cell_type": "markdown",
   "id": "dde16003",
   "metadata": {},
   "source": [
    "The Medical Insurance Dataset provides data on the different attributes of patients and how much money the costs their insurance companies incurred. You task is to predict insurance charges ('charges'). Each of the text comments that some of the sub tasks require should not be more than 150 words. "
   ]
  },
  {
   "cell_type": "markdown",
   "id": "5d1b7f18",
   "metadata": {},
   "source": [
    "Your project's grade breakdown is the following:\n",
    "\n",
    "1. Build OLS regression and get at least 70% of adjusted R squared. (15%)\n",
    "2. Explain OLS regression output -  R-squared and adjusted R squared and their differences. (10%)\n",
    "3. Explain OLS regression output - beta coefficients. Also write the OLS function formula.  Do all of your beta coefficients seem logical? Comment on the beta coefficients you recieved. (20%)\n",
    "4. Explain OLS regression output - p-values. Indicate which of your p-values are above the threshold (choose 0.05). Why might it be this way? (10%)\n",
    "5. Write the OLS function formula - confidence intervals. Comment on the confidence intervals you recieved. (5%)\n",
    "6. Calculate SST, SSR and SSE. What do these metrics mean? Comment on your SST, SSR and SSE.(5%)\n",
    "7. Calculate MAE, MSE, RMSE. Your MAE should be about 3500-4500. Which ones are the best metric in your case? Comment on your MAE, MSE, RMSE. (20%)\n",
    "8. Build residual plot and comment it. (5%)\n",
    "9. Build actual vs predicted charges plot and comment it. (5%)\n",
    "10. Briefly explain what are degrees of freedom and dummy variables trap (5%)"
   ]
  },
  {
   "cell_type": "code",
   "execution_count": 1,
   "id": "c008a756",
   "metadata": {},
   "outputs": [],
   "source": [
    "import numpy as np\n",
    "import pandas as pd\n",
    "import os\n",
    "import warnings\n",
    "warnings.filterwarnings(\"ignore\")\n",
    "import sys, os\n",
    "import matplotlib.pyplot as plt\n",
    "import seaborn as sns\n",
    "from matplotlib import rcParams\n",
    "import statsmodels.api as sm\n",
    "from sklearn.model_selection import train_test_split\n",
    "from sklearn.metrics import mean_squared_error, r2_score, mean_absolute_error\n",
    "from sklearn.metrics import mean_squared_log_error"
   ]
  },
  {
   "cell_type": "code",
   "execution_count": 2,
   "id": "d7205b9a",
   "metadata": {
    "scrolled": true
   },
   "outputs": [
    {
     "data": {
      "text/html": [
       "<div>\n",
       "<style scoped>\n",
       "    .dataframe tbody tr th:only-of-type {\n",
       "        vertical-align: middle;\n",
       "    }\n",
       "\n",
       "    .dataframe tbody tr th {\n",
       "        vertical-align: top;\n",
       "    }\n",
       "\n",
       "    .dataframe thead th {\n",
       "        text-align: right;\n",
       "    }\n",
       "</style>\n",
       "<table border=\"1\" class=\"dataframe\">\n",
       "  <thead>\n",
       "    <tr style=\"text-align: right;\">\n",
       "      <th></th>\n",
       "      <th>age</th>\n",
       "      <th>sex</th>\n",
       "      <th>bmi</th>\n",
       "      <th>children</th>\n",
       "      <th>smoker</th>\n",
       "      <th>region</th>\n",
       "      <th>charges</th>\n",
       "    </tr>\n",
       "  </thead>\n",
       "  <tbody>\n",
       "    <tr>\n",
       "      <th>0</th>\n",
       "      <td>19</td>\n",
       "      <td>female</td>\n",
       "      <td>27.900</td>\n",
       "      <td>0</td>\n",
       "      <td>yes</td>\n",
       "      <td>southwest</td>\n",
       "      <td>16884.92400</td>\n",
       "    </tr>\n",
       "    <tr>\n",
       "      <th>1</th>\n",
       "      <td>18</td>\n",
       "      <td>male</td>\n",
       "      <td>33.770</td>\n",
       "      <td>1</td>\n",
       "      <td>no</td>\n",
       "      <td>southeast</td>\n",
       "      <td>1725.55230</td>\n",
       "    </tr>\n",
       "    <tr>\n",
       "      <th>2</th>\n",
       "      <td>28</td>\n",
       "      <td>male</td>\n",
       "      <td>33.000</td>\n",
       "      <td>3</td>\n",
       "      <td>no</td>\n",
       "      <td>southeast</td>\n",
       "      <td>4449.46200</td>\n",
       "    </tr>\n",
       "    <tr>\n",
       "      <th>3</th>\n",
       "      <td>33</td>\n",
       "      <td>male</td>\n",
       "      <td>22.705</td>\n",
       "      <td>0</td>\n",
       "      <td>no</td>\n",
       "      <td>northwest</td>\n",
       "      <td>21984.47061</td>\n",
       "    </tr>\n",
       "    <tr>\n",
       "      <th>4</th>\n",
       "      <td>32</td>\n",
       "      <td>male</td>\n",
       "      <td>28.880</td>\n",
       "      <td>0</td>\n",
       "      <td>no</td>\n",
       "      <td>northwest</td>\n",
       "      <td>3866.85520</td>\n",
       "    </tr>\n",
       "    <tr>\n",
       "      <th>5</th>\n",
       "      <td>31</td>\n",
       "      <td>female</td>\n",
       "      <td>25.740</td>\n",
       "      <td>0</td>\n",
       "      <td>no</td>\n",
       "      <td>southeast</td>\n",
       "      <td>3756.62160</td>\n",
       "    </tr>\n",
       "    <tr>\n",
       "      <th>6</th>\n",
       "      <td>46</td>\n",
       "      <td>female</td>\n",
       "      <td>33.440</td>\n",
       "      <td>1</td>\n",
       "      <td>no</td>\n",
       "      <td>southeast</td>\n",
       "      <td>8240.58960</td>\n",
       "    </tr>\n",
       "    <tr>\n",
       "      <th>7</th>\n",
       "      <td>37</td>\n",
       "      <td>female</td>\n",
       "      <td>27.740</td>\n",
       "      <td>3</td>\n",
       "      <td>no</td>\n",
       "      <td>northwest</td>\n",
       "      <td>7281.50560</td>\n",
       "    </tr>\n",
       "    <tr>\n",
       "      <th>8</th>\n",
       "      <td>37</td>\n",
       "      <td>male</td>\n",
       "      <td>29.830</td>\n",
       "      <td>2</td>\n",
       "      <td>no</td>\n",
       "      <td>northeast</td>\n",
       "      <td>6406.41070</td>\n",
       "    </tr>\n",
       "    <tr>\n",
       "      <th>9</th>\n",
       "      <td>60</td>\n",
       "      <td>female</td>\n",
       "      <td>25.840</td>\n",
       "      <td>0</td>\n",
       "      <td>no</td>\n",
       "      <td>northwest</td>\n",
       "      <td>28923.13692</td>\n",
       "    </tr>\n",
       "  </tbody>\n",
       "</table>\n",
       "</div>"
      ],
      "text/plain": [
       "   age     sex     bmi  children smoker     region      charges\n",
       "0   19  female  27.900         0    yes  southwest  16884.92400\n",
       "1   18    male  33.770         1     no  southeast   1725.55230\n",
       "2   28    male  33.000         3     no  southeast   4449.46200\n",
       "3   33    male  22.705         0     no  northwest  21984.47061\n",
       "4   32    male  28.880         0     no  northwest   3866.85520\n",
       "5   31  female  25.740         0     no  southeast   3756.62160\n",
       "6   46  female  33.440         1     no  southeast   8240.58960\n",
       "7   37  female  27.740         3     no  northwest   7281.50560\n",
       "8   37    male  29.830         2     no  northeast   6406.41070\n",
       "9   60  female  25.840         0     no  northwest  28923.13692"
      ]
     },
     "execution_count": 2,
     "metadata": {},
     "output_type": "execute_result"
    }
   ],
   "source": [
    "df = pd.read_csv(\"insurance.csv\")\n",
    "\n",
    "# checking first ten rows of the dataset\n",
    "df.head(10)"
   ]
  },
  {
   "cell_type": "markdown",
   "id": "8110e4c9",
   "metadata": {},
   "source": [
    "<h2>1. Build OLS regression and get at least 70% of adjusted R squared."
   ]
  },
  {
   "cell_type": "code",
   "execution_count": 3,
   "id": "e70b67c4",
   "metadata": {},
   "outputs": [
    {
     "data": {
      "text/html": [
       "<div>\n",
       "<style scoped>\n",
       "    .dataframe tbody tr th:only-of-type {\n",
       "        vertical-align: middle;\n",
       "    }\n",
       "\n",
       "    .dataframe tbody tr th {\n",
       "        vertical-align: top;\n",
       "    }\n",
       "\n",
       "    .dataframe thead th {\n",
       "        text-align: right;\n",
       "    }\n",
       "</style>\n",
       "<table border=\"1\" class=\"dataframe\">\n",
       "  <thead>\n",
       "    <tr style=\"text-align: right;\">\n",
       "      <th></th>\n",
       "      <th>age</th>\n",
       "      <th>bmi</th>\n",
       "      <th>children</th>\n",
       "      <th>charges</th>\n",
       "      <th>sex_male</th>\n",
       "      <th>smoker_yes</th>\n",
       "      <th>region_northwest</th>\n",
       "      <th>region_southeast</th>\n",
       "      <th>region_southwest</th>\n",
       "    </tr>\n",
       "  </thead>\n",
       "  <tbody>\n",
       "    <tr>\n",
       "      <th>0</th>\n",
       "      <td>19</td>\n",
       "      <td>27.900</td>\n",
       "      <td>0</td>\n",
       "      <td>16884.92400</td>\n",
       "      <td>0</td>\n",
       "      <td>1</td>\n",
       "      <td>0</td>\n",
       "      <td>0</td>\n",
       "      <td>1</td>\n",
       "    </tr>\n",
       "    <tr>\n",
       "      <th>1</th>\n",
       "      <td>18</td>\n",
       "      <td>33.770</td>\n",
       "      <td>1</td>\n",
       "      <td>1725.55230</td>\n",
       "      <td>1</td>\n",
       "      <td>0</td>\n",
       "      <td>0</td>\n",
       "      <td>1</td>\n",
       "      <td>0</td>\n",
       "    </tr>\n",
       "    <tr>\n",
       "      <th>2</th>\n",
       "      <td>28</td>\n",
       "      <td>33.000</td>\n",
       "      <td>3</td>\n",
       "      <td>4449.46200</td>\n",
       "      <td>1</td>\n",
       "      <td>0</td>\n",
       "      <td>0</td>\n",
       "      <td>1</td>\n",
       "      <td>0</td>\n",
       "    </tr>\n",
       "    <tr>\n",
       "      <th>3</th>\n",
       "      <td>33</td>\n",
       "      <td>22.705</td>\n",
       "      <td>0</td>\n",
       "      <td>21984.47061</td>\n",
       "      <td>1</td>\n",
       "      <td>0</td>\n",
       "      <td>1</td>\n",
       "      <td>0</td>\n",
       "      <td>0</td>\n",
       "    </tr>\n",
       "    <tr>\n",
       "      <th>4</th>\n",
       "      <td>32</td>\n",
       "      <td>28.880</td>\n",
       "      <td>0</td>\n",
       "      <td>3866.85520</td>\n",
       "      <td>1</td>\n",
       "      <td>0</td>\n",
       "      <td>1</td>\n",
       "      <td>0</td>\n",
       "      <td>0</td>\n",
       "    </tr>\n",
       "    <tr>\n",
       "      <th>5</th>\n",
       "      <td>31</td>\n",
       "      <td>25.740</td>\n",
       "      <td>0</td>\n",
       "      <td>3756.62160</td>\n",
       "      <td>0</td>\n",
       "      <td>0</td>\n",
       "      <td>0</td>\n",
       "      <td>1</td>\n",
       "      <td>0</td>\n",
       "    </tr>\n",
       "    <tr>\n",
       "      <th>6</th>\n",
       "      <td>46</td>\n",
       "      <td>33.440</td>\n",
       "      <td>1</td>\n",
       "      <td>8240.58960</td>\n",
       "      <td>0</td>\n",
       "      <td>0</td>\n",
       "      <td>0</td>\n",
       "      <td>1</td>\n",
       "      <td>0</td>\n",
       "    </tr>\n",
       "    <tr>\n",
       "      <th>7</th>\n",
       "      <td>37</td>\n",
       "      <td>27.740</td>\n",
       "      <td>3</td>\n",
       "      <td>7281.50560</td>\n",
       "      <td>0</td>\n",
       "      <td>0</td>\n",
       "      <td>1</td>\n",
       "      <td>0</td>\n",
       "      <td>0</td>\n",
       "    </tr>\n",
       "    <tr>\n",
       "      <th>8</th>\n",
       "      <td>37</td>\n",
       "      <td>29.830</td>\n",
       "      <td>2</td>\n",
       "      <td>6406.41070</td>\n",
       "      <td>1</td>\n",
       "      <td>0</td>\n",
       "      <td>0</td>\n",
       "      <td>0</td>\n",
       "      <td>0</td>\n",
       "    </tr>\n",
       "    <tr>\n",
       "      <th>9</th>\n",
       "      <td>60</td>\n",
       "      <td>25.840</td>\n",
       "      <td>0</td>\n",
       "      <td>28923.13692</td>\n",
       "      <td>0</td>\n",
       "      <td>0</td>\n",
       "      <td>1</td>\n",
       "      <td>0</td>\n",
       "      <td>0</td>\n",
       "    </tr>\n",
       "  </tbody>\n",
       "</table>\n",
       "</div>"
      ],
      "text/plain": [
       "   age     bmi  children      charges  sex_male  smoker_yes  region_northwest  \\\n",
       "0   19  27.900         0  16884.92400         0           1                 0   \n",
       "1   18  33.770         1   1725.55230         1           0                 0   \n",
       "2   28  33.000         3   4449.46200         1           0                 0   \n",
       "3   33  22.705         0  21984.47061         1           0                 1   \n",
       "4   32  28.880         0   3866.85520         1           0                 1   \n",
       "5   31  25.740         0   3756.62160         0           0                 0   \n",
       "6   46  33.440         1   8240.58960         0           0                 0   \n",
       "7   37  27.740         3   7281.50560         0           0                 1   \n",
       "8   37  29.830         2   6406.41070         1           0                 0   \n",
       "9   60  25.840         0  28923.13692         0           0                 1   \n",
       "\n",
       "   region_southeast  region_southwest  \n",
       "0                 0                 1  \n",
       "1                 1                 0  \n",
       "2                 1                 0  \n",
       "3                 0                 0  \n",
       "4                 0                 0  \n",
       "5                 1                 0  \n",
       "6                 1                 0  \n",
       "7                 0                 0  \n",
       "8                 0                 0  \n",
       "9                 0                 0  "
      ]
     },
     "execution_count": 3,
     "metadata": {},
     "output_type": "execute_result"
    }
   ],
   "source": [
    "# # Convert categorical variables to numerical using one-hot encoding\n",
    "df = pd.get_dummies(df, columns=['sex', 'smoker', 'region'], drop_first=True)\n",
    "df.head(10)"
   ]
  },
  {
   "cell_type": "code",
   "execution_count": 63,
   "id": "196af22a",
   "metadata": {},
   "outputs": [],
   "source": [
    "# storing the feature columns in the variable X\n",
    "X = df.drop(['charges'], axis = 1)\n",
    "\n",
    "# storing the target column variable in the variable y\n",
    "y = df.charges\n",
    "\n",
    "# saving the output of train_test_split function to variables\n",
    "X_train, X_test, y_train, y_test = train_test_split(X, y, test_size = 0.15, random_state = 42)"
   ]
  },
  {
   "cell_type": "code",
   "execution_count": 106,
   "id": "e85f7d68",
   "metadata": {
    "scrolled": false
   },
   "outputs": [
    {
     "name": "stdout",
     "output_type": "stream",
     "text": [
      "                            OLS Regression Results                            \n",
      "==============================================================================\n",
      "Dep. Variable:                charges   R-squared:                       0.742\n",
      "Model:                            OLS   Adj. R-squared:                  0.740\n",
      "Method:                 Least Squares   F-statistic:                     405.4\n",
      "Date:                Mon, 14 Aug 2023   Prob (F-statistic):               0.00\n",
      "Time:                        11:03:19   Log-Likelihood:                -11529.\n",
      "No. Observations:                1137   AIC:                         2.308e+04\n",
      "Df Residuals:                    1128   BIC:                         2.312e+04\n",
      "Df Model:                           8                                         \n",
      "Covariance Type:            nonrobust                                         \n",
      "====================================================================================\n",
      "                       coef    std err          t      P>|t|      [0.025      0.975]\n",
      "------------------------------------------------------------------------------------\n",
      "const            -1.172e+04   1077.540    -10.874      0.000   -1.38e+04   -9603.409\n",
      "age                260.1167     13.091     19.870      0.000     234.432     285.802\n",
      "bmi                325.9089     31.228     10.436      0.000     264.637     387.181\n",
      "children           422.1531    150.535      2.804      0.005     126.792     717.514\n",
      "sex_male          -130.1721    366.380     -0.355      0.722    -849.034     588.690\n",
      "smoker_yes        2.378e+04    455.920     52.158      0.000    2.29e+04    2.47e+04\n",
      "region_northwest  -332.7424    525.077     -0.634      0.526   -1362.980     697.495\n",
      "region_southeast  -622.1788    527.308     -1.180      0.238   -1656.794     412.437\n",
      "region_southwest  -659.4036    526.243     -1.253      0.210   -1691.928     373.121\n",
      "==============================================================================\n",
      "Omnibus:                      265.280   Durbin-Watson:                   2.100\n",
      "Prob(Omnibus):                  0.000   Jarque-Bera (JB):              644.043\n",
      "Skew:                           1.244   Prob(JB):                    1.41e-140\n",
      "Kurtosis:                       5.722   Cond. No.                         308.\n",
      "==============================================================================\n",
      "\n",
      "Notes:\n",
      "[1] Standard Errors assume that the covariance matrix of the errors is correctly specified.\n"
     ]
    }
   ],
   "source": [
    "X_train_simple = sm.add_constant(X_train)\n",
    "X_test_simple = sm.add_constant(X_test)\n",
    "\n",
    "\n",
    "# Fit the OLS model\n",
    "simple_results = sm.OLS(y_train, X_train_simple).fit()\n",
    "\n",
    "print(simple_results.summary())"
   ]
  },
  {
   "cell_type": "code",
   "execution_count": 107,
   "id": "295cd8c7",
   "metadata": {},
   "outputs": [
    {
     "name": "stdout",
     "output_type": "stream",
     "text": [
      "                            OLS Regression Results                            \n",
      "==============================================================================\n",
      "Dep. Variable:                charges   R-squared:                       0.716\n",
      "Model:                            OLS   Adj. R-squared:                  0.715\n",
      "Method:                 Least Squares   F-statistic:                     952.0\n",
      "Date:                Mon, 14 Aug 2023   Prob (F-statistic):          4.90e-309\n",
      "Time:                        11:03:21   Log-Likelihood:                -11583.\n",
      "No. Observations:                1137   AIC:                         2.317e+04\n",
      "Df Residuals:                    1133   BIC:                         2.319e+04\n",
      "Df Model:                           3                                         \n",
      "Covariance Type:            nonrobust                                         \n",
      "==============================================================================\n",
      "                 coef    std err          t      P>|t|      [0.025      0.975]\n",
      "------------------------------------------------------------------------------\n",
      "const      -2878.7948    595.724     -4.832      0.000   -4047.641   -1709.949\n",
      "age          275.5373     13.612     20.243      0.000     248.830     302.244\n",
      "children     447.4922    157.516      2.841      0.005     138.437     756.547\n",
      "smoker_yes  2.382e+04    474.525     50.189      0.000    2.29e+04    2.47e+04\n",
      "==============================================================================\n",
      "Omnibus:                      232.814   Durbin-Watson:                   2.077\n",
      "Prob(Omnibus):                  0.000   Jarque-Bera (JB):              568.070\n",
      "Skew:                           1.094   Prob(JB):                    4.42e-124\n",
      "Kurtosis:                       5.684   Cond. No.                         134.\n",
      "==============================================================================\n",
      "\n",
      "Notes:\n",
      "[1] Standard Errors assume that the covariance matrix of the errors is correctly specified.\n"
     ]
    }
   ],
   "source": [
    "X_train_simple = sm.add_constant(X_train)\n",
    "X_test_simple = sm.add_constant(X_test)\n",
    "\n",
    "X_train_simple = X_train_simple.drop([ 'bmi', 'sex_male', 'region_northwest', 'region_southeast', 'region_southwest'], axis=1)\n",
    "X_test_simple  = X_test_simple.drop([ 'bmi', 'sex_male', 'region_northwest', 'region_southeast', 'region_southwest'], axis=1)\n",
    "\n",
    "\n",
    "# Fit the OLS model\n",
    "simple_results = sm.OLS(y_train, X_train_simple).fit()\n",
    "\n",
    "print(simple_results.summary())"
   ]
  },
  {
   "cell_type": "markdown",
   "id": "b2dc37f0",
   "metadata": {},
   "source": [
    "<h2>2. Explain OLS regression output -  R-squared and adjusted R squared and their differences."
   ]
  },
  {
   "cell_type": "markdown",
   "id": "3385194f",
   "metadata": {},
   "source": [
    "R-squared and adjusted R-squared are metrics used to evaluate regression model performance. \n",
    "<br><br>R-squared (0.742) measures how well the model explains the variance in the dependent variable (charges). It ranges from 0 to 1, with higher values indicating better fit. However, R-squared can overestimate fit due to additional variables, making it important to consider model complexity. \n",
    "<br><br>Adjusted R-squared (0.740) addresses this by accounting for the number of predictors. It penalizes the inclusion of insignificant variables, producing a more reliable goodness-of-fit measure. In this case, the adjusted R-squared is slightly lower than R-squared, suggesting that while the model explains a substantial portion of variance, some variables may not significantly contribute to the fit. \n",
    "<br><br>Thus, adjusted R-squared is preferred when comparing models with differing complexities to ensure better model selection."
   ]
  },
  {
   "cell_type": "markdown",
   "id": "3c43667a",
   "metadata": {},
   "source": [
    "<h2>3. Explain OLS regression output - beta coefficients. Also write the OLS function formula.  Do all of your beta coefficients seem logical? Comment on the beta coefficients you recieved."
   ]
  },
  {
   "cell_type": "markdown",
   "id": "bd72d406",
   "metadata": {},
   "source": [
    "In OLS regression, beta coefficients represent how the dependent variable (y) changes for a unit change in an independent variable (x), while other variables are constant. \n",
    "\n",
    "The formula is:\n",
    "\n",
    "$\n",
    "y = \\beta_0 + \\beta_1 x_1 + \\beta_2 x_2 + \\ldots + \\beta_n x_n + \\varepsilon \n",
    "$\n",
    "\n",
    "\n",
    "Where:\n",
    "- $ y $ is the dependent variable (charges in this case).\n",
    "- $ \\beta_0 $ is the intercept (const in the output).\n",
    "- $ \\beta_1, \\beta_2, \\ldots, \\beta_n $ are the coefficients for independent variables.\n",
    "- $ x_1, x_2, \\ldots, x_n $ are the values of the independent variables.\n",
    "- $ \\varepsilon $ is the error term.\n",
    "\n",
    "In the provided output, the beta coefficients indicate how the independent variables influence the charges. The coefficients for age and bmi are positive, suggesting that higher age and higher body mass index tend to increase charges. The coefficient for smoker_yes is notably high, indicating that being a smoker significantly raises charges. Coefficients for sex and regions are smaller and statistically insignificant, implying they have less impact on charges."
   ]
  },
  {
   "cell_type": "markdown",
   "id": "ea75abd0",
   "metadata": {},
   "source": [
    "<h2>4. Explain OLS regression output - p-values. Indicate which of your p-values are above the threshold (choose 0.05). Why might it be this way?"
   ]
  },
  {
   "cell_type": "markdown",
   "id": "885669a8",
   "metadata": {},
   "source": [
    "P-values in OLS regression output assess the statistical significance of individual coefficients (variables) in the model. A p-value below a chosen threshold (0.05) suggests that the corresponding variable significantly contributes to the model. In output, `sex_male` and all `region` coefficients have p-values above 0.05, indicating that they may not be statistically significant in predicting `charges`. This could be due to these variables having relatively weaker associations with the target or overlapping information with other variables. When p-values are above the threshold, it suggests these variables might not provide substantial predictive power, and excluding them might improve model simplicity without significant loss of explanatory ability."
   ]
  },
  {
   "cell_type": "markdown",
   "id": "d74994a7",
   "metadata": {},
   "source": [
    "<h2>5. Write the OLS function formula - confidence intervals. Comment on the confidence intervals you recieved."
   ]
  },
  {
   "cell_type": "markdown",
   "id": "a4dccfb9",
   "metadata": {},
   "source": [
    "Confidence intervals are calculated as:\n",
    "\n",
    "___Confidence Interval = Coefficient Estimate $\\pm$ Margin of Error___\n",
    "\n",
    "The margin of error is determined by multiplying the standard error by the critical value, which corresponds to the desired level of confidence.\n",
    "\n",
    "When interpreting the confidence intervals, if the interval includes zero, it suggests that the coefficient is not statistically significant at the chosen level of confidence.\n",
    "The confidence interval for the `smoker_yes` coefficient is __[22900, 24700]__, and the interval for `age` is __[234, 286]__, one would say that being a smoker significantly impacts charges, as the interval does not include zero. Similarly, age has a significant impact, while considering the age range within the interval. However, `sex_male` and the `region` variables include zero and have wider intervals, possibly indicating less precision and weaker statistical significance in relation to predicting `charges`.\n"
   ]
  },
  {
   "cell_type": "markdown",
   "id": "9d2d60c3",
   "metadata": {},
   "source": [
    "<h2>6. Calculate SST, SSR and SSE. What do these metrics mean? Comment on your SST, SSR and SSE."
   ]
  },
  {
   "cell_type": "code",
   "execution_count": 108,
   "id": "87040672",
   "metadata": {},
   "outputs": [
    {
     "name": "stdout",
     "output_type": "stream",
     "text": [
      "Train Dataset:\n",
      "SST: 165466744813.05 \n",
      "SSE: 46997909052.80938 \n",
      "SSR: 118468835760.2406\n",
      "\n",
      "Test Dataset:\n",
      "SST: 30605813766.501266 \n",
      "SSE: 7174072881.31239 \n",
      "SSR: 23431740885.188877\n"
     ]
    }
   ],
   "source": [
    "# Making predictions\n",
    "y_train_pred_simple = simple_results.predict(X_train_simple)\n",
    "y_test_pred_simple = simple_results.predict(X_test_simple)\n",
    "\n",
    "# Residuals for the train and test datasets\n",
    "residuals_train_simple = y_train - y_train_pred_simple\n",
    "residuals_test_simple = y_test - y_test_pred_simple\n",
    "\n",
    "# Calculate SST, SSE, SSR for train dataset\n",
    "SST_train_simple = np.sum((y_train - np.mean(y_train))**2)\n",
    "SSE_train_simple = np.sum(residuals_train_simple**2)\n",
    "SSR_train_simple = SST_train_simple - SSE_train_simple\n",
    "\n",
    "# Calculate SST, SSE, SSR for test dataset\n",
    "SST_test_simple = np.sum((y_test - np.mean(y_test))**2)\n",
    "SSE_test_simple = np.sum(residuals_test_simple**2)\n",
    "SSR_test_simple = SST_test_simple - SSE_test_simple\n",
    "\n",
    "print('Train Dataset:')\n",
    "print('SST:', SST_train_simple, '\\nSSE:', SSE_train_simple, '\\nSSR:', SSR_train_simple)\n",
    "\n",
    "print('\\nTest Dataset:')\n",
    "print('SST:', SST_test_simple, '\\nSSE:', SSE_test_simple, '\\nSSR:', SSR_test_simple)\n"
   ]
  },
  {
   "cell_type": "markdown",
   "id": "6bed09b8",
   "metadata": {},
   "source": [
    "__SST (Total Sum of Squares)__ quantifies the total variability in the dependent variable. It measures how much the individual data points deviate from the mean. \n",
    "\n",
    "__SSR (Regression Sum of Squares)__ represents the variability in the dependent variable explained by the regression model. It assesses how well the model captures the data's patterns. \n",
    "\n",
    "__SSE (Error Sum of Squares)__ measures the unexplained variability, indicating the differences between actual data points and the model's predictions. \n",
    "\n",
    "Together, these metrics help understand how much of the total variability is accounted for by the model's explanatory power, unexplained discrepancies, and the overall goodness of fit."
   ]
  },
  {
   "cell_type": "markdown",
   "id": "e7ca1ea4",
   "metadata": {},
   "source": [
    "These results collectively indicate that the model performs well in explaining the variance in both the training and test datasets. The high SSR values relative to SSE suggest that the model is effectively capturing patterns in the data."
   ]
  },
  {
   "cell_type": "markdown",
   "id": "bd956e31",
   "metadata": {},
   "source": [
    "<h2>7. Calculate MAE, MSE, RMSE. Your MAE should be about 3500-4500. Which ones are the best metric in your case? Comment on your MAE, MSE, RMSE."
   ]
  },
  {
   "cell_type": "code",
   "execution_count": 109,
   "id": "405c3e4b",
   "metadata": {
    "scrolled": true
   },
   "outputs": [
    {
     "name": "stdout",
     "output_type": "stream",
     "text": [
      "Train Dataset:\n",
      "MAE: 4134.877326493907 \n",
      "MSE: 41335012.35955091 \n",
      "RMSE: 6429.231086183705\n",
      "\n",
      "Test Dataset:\n",
      "MAE: 3886.976989185636 \n",
      "MSE: 35691904.882151194 \n",
      "RMSE: 5974.270238460192\n"
     ]
    }
   ],
   "source": [
    "# MAE, MSE, RMSE for train dataset\n",
    "MAE_train_simple = mean_absolute_error(y_train, y_train_pred_simple)\n",
    "MSE_train_simple = mean_squared_error(y_train, y_train_pred_simple)\n",
    "RMSE_train_simple = np.sqrt(MSE_train_simple)\n",
    "\n",
    "# MAE, MSE, RMSE for test dataset\n",
    "MAE_test_simple = mean_absolute_error(y_test, y_test_pred_simple)\n",
    "MSE_test_simple = mean_squared_error(y_test, y_test_pred_simple)\n",
    "RMSE_test_simple = np.sqrt(MSE_test_simple)\n",
    "\n",
    "print('Train Dataset:')\n",
    "print('MAE:', MAE_train_simple, '\\nMSE:', MSE_train_simple, '\\nRMSE:', RMSE_train_simple)\n",
    "\n",
    "print('\\nTest Dataset:')\n",
    "print('MAE:', MAE_test_simple, '\\nMSE:', MSE_test_simple, '\\nRMSE:', RMSE_test_simple)\n"
   ]
  },
  {
   "cell_type": "markdown",
   "id": "8e2ff82a",
   "metadata": {},
   "source": [
    "In predictive model evaluation, lower metric values are preferable. \n",
    "\n",
    "__MAE (Mean Absolute Error)__ represents the average absolute difference between actual and predicted values. The difference between train and test MAE suggests the model's strong generalization. \n",
    "\n",
    "__MSE (Mean Squared Error)__ calculates the average squared differences between actual and predicted values. Test MSE is lower than train MSE, signifying good generalization. \n",
    "\n",
    "__RMSE (Root Mean Squared Error)__ the square root of MSE, measures prediction error in the target's unit. Test RMSE outperforms train RMSE, indicating strong generalization. \n",
    "\n",
    "Overall, test metrics being lower implies good generalization and predictive ability. Among these, RMSE is often favored, penalizing larger errors and enhancing model accuracy evaluation.\n"
   ]
  },
  {
   "cell_type": "markdown",
   "id": "ca3dff9e",
   "metadata": {},
   "source": [
    "<h2>8. Build residual plot and comment it."
   ]
  },
  {
   "cell_type": "code",
   "execution_count": 110,
   "id": "3e96cadf",
   "metadata": {
    "scrolled": false
   },
   "outputs": [
    {
     "data": {
      "image/png": "[encoded data removed]",
      "text/plain": [
       "<Figure size 1080x648 with 1 Axes>"
      ]
     },
     "metadata": {
      "needs_background": "light"
     },
     "output_type": "display_data"
    }
   ],
   "source": [
    "plt.figure(figsize=(15, 9))\n",
    "plt.scatter(y_test_pred_simple, y_test - y_test_pred_simple, color='blue')\n",
    "plt.hlines(y=0, xmin= y_test.min(), xmax=y_test.max(), colors='black', linestyles='dashed')\n",
    "plt.xlabel('Predicted Performance Index')\n",
    "plt.ylabel('Residuals')\n",
    "plt.title('Residual Plot')\n",
    "plt.show()\n"
   ]
  },
  {
   "cell_type": "markdown",
   "id": "4f0e4a7e",
   "metadata": {},
   "source": [
    "The model demonstrates strong performance for values below 16,000, accurately capturing underlying patterns. However, notable unexplained outliers emerge beyond this point, indicating potential limitations in the model's ability to predict higher values."
   ]
  },
  {
   "cell_type": "markdown",
   "id": "85807380",
   "metadata": {},
   "source": [
    "<h2>9. Build actual vs predicted charges plot and comment it."
   ]
  },
  {
   "cell_type": "code",
   "execution_count": 111,
   "id": "426aa4de",
   "metadata": {
    "scrolled": false
   },
   "outputs": [
    {
     "data": {
      "image/png": "[encoded data removed]",
      "text/plain": [
       "<Figure size 1080x648 with 1 Axes>"
      ]
     },
     "metadata": {
      "needs_background": "light"
     },
     "output_type": "display_data"
    }
   ],
   "source": [
    "import matplotlib.pyplot as plt\n",
    "import numpy as np\n",
    "\n",
    "plt.figure(figsize=(15, 9))\n",
    "\n",
    "# Plot the actual vs predicted values as a scatter plot\n",
    "plt.scatter(y_test, y_test_pred_simple, color='blue', alpha=0.5)\n",
    "\n",
    "# Generate a range of values from the minimum to maximum of actual values\n",
    "line_coords = np.arange(y_test.min(), y_test.max())\n",
    "\n",
    "# Plot a diagonal line representing perfect prediction\n",
    "plt.plot(line_coords, line_coords, color='red', linestyle='--')\n",
    "\n",
    "plt.xlabel('Actual Performance Index')\n",
    "plt.ylabel('Predicted Performance Index')\n",
    "plt.title('Actual vs Predicted Performance Index')\n",
    "plt.show()"
   ]
  },
  {
   "cell_type": "markdown",
   "id": "e4dc05cd",
   "metadata": {},
   "source": [
    "It's evident from the provided graph that the model performs effectively on values below 16,000, accurately capturing the underlying patterns. However, beyond this threshold, there are unexplained outliers where the model's predictions diverge significantly from actual values. These outliers might stem from complexities in the data that the model isn't adequately addressing. Further investigation is warranted to understand the nature of these outliers – whether they're due to data anomalies, model limitations, or other factors. "
   ]
  },
  {
   "cell_type": "markdown",
   "id": "d30407b6",
   "metadata": {},
   "source": [
    "<h2>10. Briefly explain what are degrees of freedom and dummy variables trap."
   ]
  },
  {
   "cell_type": "markdown",
   "id": "a9d334ac",
   "metadata": {},
   "source": [
    "**Degrees of Freedom:** In statistics, degrees of freedom are the count of values that are free to vary in a calculation. In regression, it's the data points minus estimated parameters, indicating the available information for estimating model fit and variability. More degrees of freedom enhance statistical reliability.\n",
    "\n",
    "**Dummy Variables Trap:** The dummy variable trap arises when using one-hot encoding for categorical variables in regression. It involves perfect multicollinearity, where one dummy variable can be predicted from others. To avoid this, one category's dummy variable is dropped, preventing redundant information and ensuring model stability. For example, in region encoding (North, South, West), you'd use only two dummy variables to circumvent the trap."
   ]
  }
 ],
 "metadata": {
  "kernelspec": {
   "display_name": "Python 3",
   "language": "python",
   "name": "python3"
  },
  "language_info": {
   "codemirror_mode": {
    "name": "ipython",
    "version": 3
   },
   "file_extension": ".py",
   "mimetype": "text/x-python",
   "name": "python",
   "nbconvert_exporter": "python",
   "pygments_lexer": "ipython3",
   "version": "3.8.8"
  }
 },
 "nbformat": 4,
 "nbformat_minor": 5
}
