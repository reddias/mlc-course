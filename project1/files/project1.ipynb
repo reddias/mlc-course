{
 "cells": [
  {
   "cell_type": "markdown",
   "id": "001d9f6b",
   "metadata": {},
   "source": [
    "<h1>Project 1"
   ]
  },
  {
   "cell_type": "markdown",
   "id": "496fc111",
   "metadata": {},
   "source": [
    "The objective of this project is to analyze the dataset `Salaries.csv`. For this purpose, the following tasks will be performed on the columns: BasePay, OvertimePay, OtherPay, Benefits, TotalPay, and TotalPayBenefits:\n",
    "\n",
    "1. Calculate the standard deviation and variance without applying the methods (std() and variance()).\n",
    "2. Calculate the standard deviation and variance by applying the methods (std() and variance()).\n",
    "3. Calculate the coefficient of covariance and range.\n",
    "4. Calculate the measures of central tendency (mean, median, mode).\n",
    "5. Apply the describe() method to get a summary of the dataset.\n",
    "6. Build histograms to visualize the distribution of each column.\n",
    "7. Build boxplots to visualize the distribution and summary statistics of each column.\n",
    "8. Calculate the Interquartile Range (IQR) for each column.\n",
    "9. Write a short summary of the findings and insights from the data analysis.\n",
    "\n",
    "                                                    Disclaimer!!\n",
    "Throughout the project, the author will handle any outliers in a considered manner and avoid dropping them entirely. The intention is to retain valuable information and maintain the integrity of the dataset. Additionally, the author acknowledges that as time passes, perspectives may change, leading to the possibility of revisiting the dataset in the future with a fresh perspective and enhanced knowledge for further analysis."
   ]
  },
  {
   "cell_type": "code",
   "execution_count": 1,
   "id": "d616f73d",
   "metadata": {},
   "outputs": [],
   "source": [
    "import warnings\n",
    "warnings.filterwarnings('ignore')\n",
    "import numpy as np\n",
    "import pandas as pd\n",
    "import matplotlib.pyplot as plt\n",
    "import seaborn as sns"
   ]
  },
  {
   "cell_type": "code",
   "execution_count": 2,
   "id": "5d1692f9",
   "metadata": {},
   "outputs": [],
   "source": [
    "df = pd.read_csv('D:/Salaries.csv')"
   ]
  },
  {
   "cell_type": "code",
   "execution_count": 3,
   "id": "097eaceb",
   "metadata": {},
   "outputs": [
    {
     "data": {
      "text/html": [
       "<div>\n",
       "<style scoped>\n",
       "    .dataframe tbody tr th:only-of-type {\n",
       "        vertical-align: middle;\n",
       "    }\n",
       "\n",
       "    .dataframe tbody tr th {\n",
       "        vertical-align: top;\n",
       "    }\n",
       "\n",
       "    .dataframe thead th {\n",
       "        text-align: right;\n",
       "    }\n",
       "</style>\n",
       "<table border=\"1\" class=\"dataframe\">\n",
       "  <thead>\n",
       "    <tr style=\"text-align: right;\">\n",
       "      <th></th>\n",
       "      <th>Id</th>\n",
       "      <th>EmployeeName</th>\n",
       "      <th>JobTitle</th>\n",
       "      <th>BasePay</th>\n",
       "      <th>OvertimePay</th>\n",
       "      <th>OtherPay</th>\n",
       "      <th>Benefits</th>\n",
       "      <th>TotalPay</th>\n",
       "      <th>TotalPayBenefits</th>\n",
       "      <th>Year</th>\n",
       "      <th>Notes</th>\n",
       "      <th>Agency</th>\n",
       "      <th>Status</th>\n",
       "    </tr>\n",
       "  </thead>\n",
       "  <tbody>\n",
       "    <tr>\n",
       "      <th>0</th>\n",
       "      <td>1</td>\n",
       "      <td>NATHANIEL FORD</td>\n",
       "      <td>GENERAL MANAGER-METROPOLITAN TRANSIT AUTHORITY</td>\n",
       "      <td>167411.18</td>\n",
       "      <td>0.0</td>\n",
       "      <td>400184.25</td>\n",
       "      <td>NaN</td>\n",
       "      <td>567595.43</td>\n",
       "      <td>567595.43</td>\n",
       "      <td>2011</td>\n",
       "      <td>NaN</td>\n",
       "      <td>San Francisco</td>\n",
       "      <td>NaN</td>\n",
       "    </tr>\n",
       "    <tr>\n",
       "      <th>1</th>\n",
       "      <td>2</td>\n",
       "      <td>GARY JIMENEZ</td>\n",
       "      <td>CAPTAIN III (POLICE DEPARTMENT)</td>\n",
       "      <td>155966.02</td>\n",
       "      <td>245131.88</td>\n",
       "      <td>137811.38</td>\n",
       "      <td>NaN</td>\n",
       "      <td>538909.28</td>\n",
       "      <td>538909.28</td>\n",
       "      <td>2011</td>\n",
       "      <td>NaN</td>\n",
       "      <td>San Francisco</td>\n",
       "      <td>NaN</td>\n",
       "    </tr>\n",
       "    <tr>\n",
       "      <th>2</th>\n",
       "      <td>3</td>\n",
       "      <td>ALBERT PARDINI</td>\n",
       "      <td>CAPTAIN III (POLICE DEPARTMENT)</td>\n",
       "      <td>212739.13</td>\n",
       "      <td>106088.18</td>\n",
       "      <td>16452.6</td>\n",
       "      <td>NaN</td>\n",
       "      <td>335279.91</td>\n",
       "      <td>335279.91</td>\n",
       "      <td>2011</td>\n",
       "      <td>NaN</td>\n",
       "      <td>San Francisco</td>\n",
       "      <td>NaN</td>\n",
       "    </tr>\n",
       "    <tr>\n",
       "      <th>3</th>\n",
       "      <td>4</td>\n",
       "      <td>CHRISTOPHER CHONG</td>\n",
       "      <td>WIRE ROPE CABLE MAINTENANCE MECHANIC</td>\n",
       "      <td>77916.0</td>\n",
       "      <td>56120.71</td>\n",
       "      <td>198306.9</td>\n",
       "      <td>NaN</td>\n",
       "      <td>332343.61</td>\n",
       "      <td>332343.61</td>\n",
       "      <td>2011</td>\n",
       "      <td>NaN</td>\n",
       "      <td>San Francisco</td>\n",
       "      <td>NaN</td>\n",
       "    </tr>\n",
       "    <tr>\n",
       "      <th>4</th>\n",
       "      <td>5</td>\n",
       "      <td>PATRICK GARDNER</td>\n",
       "      <td>DEPUTY CHIEF OF DEPARTMENT,(FIRE DEPARTMENT)</td>\n",
       "      <td>134401.6</td>\n",
       "      <td>9737.0</td>\n",
       "      <td>182234.59</td>\n",
       "      <td>NaN</td>\n",
       "      <td>326373.19</td>\n",
       "      <td>326373.19</td>\n",
       "      <td>2011</td>\n",
       "      <td>NaN</td>\n",
       "      <td>San Francisco</td>\n",
       "      <td>NaN</td>\n",
       "    </tr>\n",
       "    <tr>\n",
       "      <th>...</th>\n",
       "      <td>...</td>\n",
       "      <td>...</td>\n",
       "      <td>...</td>\n",
       "      <td>...</td>\n",
       "      <td>...</td>\n",
       "      <td>...</td>\n",
       "      <td>...</td>\n",
       "      <td>...</td>\n",
       "      <td>...</td>\n",
       "      <td>...</td>\n",
       "      <td>...</td>\n",
       "      <td>...</td>\n",
       "      <td>...</td>\n",
       "    </tr>\n",
       "    <tr>\n",
       "      <th>148649</th>\n",
       "      <td>148650</td>\n",
       "      <td>Roy I Tillery</td>\n",
       "      <td>Custodian</td>\n",
       "      <td>0.00</td>\n",
       "      <td>0.00</td>\n",
       "      <td>0.00</td>\n",
       "      <td>0.00</td>\n",
       "      <td>0.00</td>\n",
       "      <td>0.00</td>\n",
       "      <td>2014</td>\n",
       "      <td>NaN</td>\n",
       "      <td>San Francisco</td>\n",
       "      <td>PT</td>\n",
       "    </tr>\n",
       "    <tr>\n",
       "      <th>148650</th>\n",
       "      <td>148651</td>\n",
       "      <td>Not provided</td>\n",
       "      <td>Not provided</td>\n",
       "      <td>Not Provided</td>\n",
       "      <td>Not Provided</td>\n",
       "      <td>Not Provided</td>\n",
       "      <td>Not Provided</td>\n",
       "      <td>0.00</td>\n",
       "      <td>0.00</td>\n",
       "      <td>2014</td>\n",
       "      <td>NaN</td>\n",
       "      <td>San Francisco</td>\n",
       "      <td>NaN</td>\n",
       "    </tr>\n",
       "    <tr>\n",
       "      <th>148651</th>\n",
       "      <td>148652</td>\n",
       "      <td>Not provided</td>\n",
       "      <td>Not provided</td>\n",
       "      <td>Not Provided</td>\n",
       "      <td>Not Provided</td>\n",
       "      <td>Not Provided</td>\n",
       "      <td>Not Provided</td>\n",
       "      <td>0.00</td>\n",
       "      <td>0.00</td>\n",
       "      <td>2014</td>\n",
       "      <td>NaN</td>\n",
       "      <td>San Francisco</td>\n",
       "      <td>NaN</td>\n",
       "    </tr>\n",
       "    <tr>\n",
       "      <th>148652</th>\n",
       "      <td>148653</td>\n",
       "      <td>Not provided</td>\n",
       "      <td>Not provided</td>\n",
       "      <td>Not Provided</td>\n",
       "      <td>Not Provided</td>\n",
       "      <td>Not Provided</td>\n",
       "      <td>Not Provided</td>\n",
       "      <td>0.00</td>\n",
       "      <td>0.00</td>\n",
       "      <td>2014</td>\n",
       "      <td>NaN</td>\n",
       "      <td>San Francisco</td>\n",
       "      <td>NaN</td>\n",
       "    </tr>\n",
       "    <tr>\n",
       "      <th>148653</th>\n",
       "      <td>148654</td>\n",
       "      <td>Joe Lopez</td>\n",
       "      <td>Counselor, Log Cabin Ranch</td>\n",
       "      <td>0.00</td>\n",
       "      <td>0.00</td>\n",
       "      <td>-618.13</td>\n",
       "      <td>0.00</td>\n",
       "      <td>-618.13</td>\n",
       "      <td>-618.13</td>\n",
       "      <td>2014</td>\n",
       "      <td>NaN</td>\n",
       "      <td>San Francisco</td>\n",
       "      <td>PT</td>\n",
       "    </tr>\n",
       "  </tbody>\n",
       "</table>\n",
       "<p>148654 rows × 13 columns</p>\n",
       "</div>"
      ],
      "text/plain": [
       "            Id       EmployeeName  \\\n",
       "0            1     NATHANIEL FORD   \n",
       "1            2       GARY JIMENEZ   \n",
       "2            3     ALBERT PARDINI   \n",
       "3            4  CHRISTOPHER CHONG   \n",
       "4            5    PATRICK GARDNER   \n",
       "...        ...                ...   \n",
       "148649  148650      Roy I Tillery   \n",
       "148650  148651       Not provided   \n",
       "148651  148652       Not provided   \n",
       "148652  148653       Not provided   \n",
       "148653  148654          Joe Lopez   \n",
       "\n",
       "                                              JobTitle       BasePay  \\\n",
       "0       GENERAL MANAGER-METROPOLITAN TRANSIT AUTHORITY     167411.18   \n",
       "1                      CAPTAIN III (POLICE DEPARTMENT)     155966.02   \n",
       "2                      CAPTAIN III (POLICE DEPARTMENT)     212739.13   \n",
       "3                 WIRE ROPE CABLE MAINTENANCE MECHANIC       77916.0   \n",
       "4         DEPUTY CHIEF OF DEPARTMENT,(FIRE DEPARTMENT)      134401.6   \n",
       "...                                                ...           ...   \n",
       "148649                                       Custodian          0.00   \n",
       "148650                                    Not provided  Not Provided   \n",
       "148651                                    Not provided  Not Provided   \n",
       "148652                                    Not provided  Not Provided   \n",
       "148653                      Counselor, Log Cabin Ranch          0.00   \n",
       "\n",
       "         OvertimePay      OtherPay      Benefits   TotalPay  TotalPayBenefits  \\\n",
       "0                0.0     400184.25           NaN  567595.43         567595.43   \n",
       "1          245131.88     137811.38           NaN  538909.28         538909.28   \n",
       "2          106088.18       16452.6           NaN  335279.91         335279.91   \n",
       "3           56120.71      198306.9           NaN  332343.61         332343.61   \n",
       "4             9737.0     182234.59           NaN  326373.19         326373.19   \n",
       "...              ...           ...           ...        ...               ...   \n",
       "148649          0.00          0.00          0.00       0.00              0.00   \n",
       "148650  Not Provided  Not Provided  Not Provided       0.00              0.00   \n",
       "148651  Not Provided  Not Provided  Not Provided       0.00              0.00   \n",
       "148652  Not Provided  Not Provided  Not Provided       0.00              0.00   \n",
       "148653          0.00       -618.13          0.00    -618.13           -618.13   \n",
       "\n",
       "        Year  Notes         Agency Status  \n",
       "0       2011    NaN  San Francisco    NaN  \n",
       "1       2011    NaN  San Francisco    NaN  \n",
       "2       2011    NaN  San Francisco    NaN  \n",
       "3       2011    NaN  San Francisco    NaN  \n",
       "4       2011    NaN  San Francisco    NaN  \n",
       "...      ...    ...            ...    ...  \n",
       "148649  2014    NaN  San Francisco     PT  \n",
       "148650  2014    NaN  San Francisco    NaN  \n",
       "148651  2014    NaN  San Francisco    NaN  \n",
       "148652  2014    NaN  San Francisco    NaN  \n",
       "148653  2014    NaN  San Francisco     PT  \n",
       "\n",
       "[148654 rows x 13 columns]"
      ]
     },
     "execution_count": 3,
     "metadata": {},
     "output_type": "execute_result"
    }
   ],
   "source": [
    "df"
   ]
  },
  {
   "cell_type": "markdown",
   "id": "9b9864a3",
   "metadata": {},
   "source": [
    "From the preliminary observation, it is noticeable that there some non numeric values for columns BasePay, OvertimePay, Benefits; negative values for TotalPay, TotalPayBenefits; and column Year seems to be fine at first. Let's continue analyzing data but more closely"
   ]
  },
  {
   "cell_type": "code",
   "execution_count": 4,
   "id": "2aeda215",
   "metadata": {},
   "outputs": [
    {
     "data": {
      "text/plain": [
       "2014    38123\n",
       "2013    37606\n",
       "2012    36766\n",
       "2011    36159\n",
       "Name: Year, dtype: int64"
      ]
     },
     "execution_count": 4,
     "metadata": {},
     "output_type": "execute_result"
    }
   ],
   "source": [
    "df['Year'].value_counts()"
   ]
  },
  {
   "cell_type": "markdown",
   "id": "6768247a",
   "metadata": {},
   "source": [
    "Year column seems to be ok, but why should we apply methods like std() for year. For now, it seems illogical.\n",
    "\n",
    "For the following part, I will try to clean or replace all cells with incorrect or non numeric data "
   ]
  },
  {
   "cell_type": "code",
   "execution_count": 5,
   "id": "b40af1a7",
   "metadata": {
    "scrolled": true
   },
   "outputs": [
    {
     "name": "stdout",
     "output_type": "stream",
     "text": [
      "<class 'pandas.core.frame.DataFrame'>\n",
      "RangeIndex: 148654 entries, 0 to 148653\n",
      "Data columns (total 13 columns):\n",
      " #   Column            Non-Null Count   Dtype  \n",
      "---  ------            --------------   -----  \n",
      " 0   Id                148654 non-null  int64  \n",
      " 1   EmployeeName      148654 non-null  object \n",
      " 2   JobTitle          148654 non-null  object \n",
      " 3   BasePay           148049 non-null  object \n",
      " 4   OvertimePay       148654 non-null  object \n",
      " 5   OtherPay          148654 non-null  object \n",
      " 6   Benefits          112495 non-null  object \n",
      " 7   TotalPay          148654 non-null  float64\n",
      " 8   TotalPayBenefits  148654 non-null  float64\n",
      " 9   Year              148654 non-null  int64  \n",
      " 10  Notes             0 non-null       float64\n",
      " 11  Agency            148654 non-null  object \n",
      " 12  Status            38119 non-null   object \n",
      "dtypes: float64(3), int64(2), object(8)\n",
      "memory usage: 14.7+ MB\n"
     ]
    }
   ],
   "source": [
    "df.info()"
   ]
  },
  {
   "cell_type": "markdown",
   "id": "dd0ae1ab",
   "metadata": {},
   "source": [
    "<h2> 0. Cleaning"
   ]
  },
  {
   "cell_type": "markdown",
   "id": "7408cd48",
   "metadata": {},
   "source": [
    "<h3>Working with Row `BasePay` "
   ]
  },
  {
   "cell_type": "markdown",
   "id": "df53efd4",
   "metadata": {},
   "source": [
    "<h4>Cleaning "
   ]
  },
  {
   "cell_type": "code",
   "execution_count": 6,
   "id": "7ed7f3c3",
   "metadata": {},
   "outputs": [
    {
     "data": {
      "text/html": [
       "<div>\n",
       "<style scoped>\n",
       "    .dataframe tbody tr th:only-of-type {\n",
       "        vertical-align: middle;\n",
       "    }\n",
       "\n",
       "    .dataframe tbody tr th {\n",
       "        vertical-align: top;\n",
       "    }\n",
       "\n",
       "    .dataframe thead th {\n",
       "        text-align: right;\n",
       "    }\n",
       "</style>\n",
       "<table border=\"1\" class=\"dataframe\">\n",
       "  <thead>\n",
       "    <tr style=\"text-align: right;\">\n",
       "      <th></th>\n",
       "      <th>Id</th>\n",
       "      <th>EmployeeName</th>\n",
       "      <th>JobTitle</th>\n",
       "      <th>BasePay</th>\n",
       "      <th>OvertimePay</th>\n",
       "      <th>OtherPay</th>\n",
       "      <th>Benefits</th>\n",
       "      <th>TotalPay</th>\n",
       "      <th>TotalPayBenefits</th>\n",
       "      <th>Year</th>\n",
       "      <th>Notes</th>\n",
       "      <th>Agency</th>\n",
       "      <th>Status</th>\n",
       "    </tr>\n",
       "  </thead>\n",
       "  <tbody>\n",
       "    <tr>\n",
       "      <th>0</th>\n",
       "      <td>1</td>\n",
       "      <td>NATHANIEL FORD</td>\n",
       "      <td>GENERAL MANAGER-METROPOLITAN TRANSIT AUTHORITY</td>\n",
       "      <td>167411.18</td>\n",
       "      <td>0.0</td>\n",
       "      <td>400184.25</td>\n",
       "      <td>NaN</td>\n",
       "      <td>567595.43</td>\n",
       "      <td>567595.43</td>\n",
       "      <td>2011</td>\n",
       "      <td>NaN</td>\n",
       "      <td>San Francisco</td>\n",
       "      <td>NaN</td>\n",
       "    </tr>\n",
       "    <tr>\n",
       "      <th>1</th>\n",
       "      <td>2</td>\n",
       "      <td>GARY JIMENEZ</td>\n",
       "      <td>CAPTAIN III (POLICE DEPARTMENT)</td>\n",
       "      <td>155966.02</td>\n",
       "      <td>245131.88</td>\n",
       "      <td>137811.38</td>\n",
       "      <td>NaN</td>\n",
       "      <td>538909.28</td>\n",
       "      <td>538909.28</td>\n",
       "      <td>2011</td>\n",
       "      <td>NaN</td>\n",
       "      <td>San Francisco</td>\n",
       "      <td>NaN</td>\n",
       "    </tr>\n",
       "    <tr>\n",
       "      <th>2</th>\n",
       "      <td>3</td>\n",
       "      <td>ALBERT PARDINI</td>\n",
       "      <td>CAPTAIN III (POLICE DEPARTMENT)</td>\n",
       "      <td>212739.13</td>\n",
       "      <td>106088.18</td>\n",
       "      <td>16452.6</td>\n",
       "      <td>NaN</td>\n",
       "      <td>335279.91</td>\n",
       "      <td>335279.91</td>\n",
       "      <td>2011</td>\n",
       "      <td>NaN</td>\n",
       "      <td>San Francisco</td>\n",
       "      <td>NaN</td>\n",
       "    </tr>\n",
       "    <tr>\n",
       "      <th>3</th>\n",
       "      <td>4</td>\n",
       "      <td>CHRISTOPHER CHONG</td>\n",
       "      <td>WIRE ROPE CABLE MAINTENANCE MECHANIC</td>\n",
       "      <td>77916.0</td>\n",
       "      <td>56120.71</td>\n",
       "      <td>198306.9</td>\n",
       "      <td>NaN</td>\n",
       "      <td>332343.61</td>\n",
       "      <td>332343.61</td>\n",
       "      <td>2011</td>\n",
       "      <td>NaN</td>\n",
       "      <td>San Francisco</td>\n",
       "      <td>NaN</td>\n",
       "    </tr>\n",
       "    <tr>\n",
       "      <th>4</th>\n",
       "      <td>5</td>\n",
       "      <td>PATRICK GARDNER</td>\n",
       "      <td>DEPUTY CHIEF OF DEPARTMENT,(FIRE DEPARTMENT)</td>\n",
       "      <td>134401.6</td>\n",
       "      <td>9737.0</td>\n",
       "      <td>182234.59</td>\n",
       "      <td>NaN</td>\n",
       "      <td>326373.19</td>\n",
       "      <td>326373.19</td>\n",
       "      <td>2011</td>\n",
       "      <td>NaN</td>\n",
       "      <td>San Francisco</td>\n",
       "      <td>NaN</td>\n",
       "    </tr>\n",
       "    <tr>\n",
       "      <th>...</th>\n",
       "      <td>...</td>\n",
       "      <td>...</td>\n",
       "      <td>...</td>\n",
       "      <td>...</td>\n",
       "      <td>...</td>\n",
       "      <td>...</td>\n",
       "      <td>...</td>\n",
       "      <td>...</td>\n",
       "      <td>...</td>\n",
       "      <td>...</td>\n",
       "      <td>...</td>\n",
       "      <td>...</td>\n",
       "      <td>...</td>\n",
       "    </tr>\n",
       "    <tr>\n",
       "      <th>148649</th>\n",
       "      <td>148650</td>\n",
       "      <td>Roy I Tillery</td>\n",
       "      <td>Custodian</td>\n",
       "      <td>0.00</td>\n",
       "      <td>0.00</td>\n",
       "      <td>0.00</td>\n",
       "      <td>0.00</td>\n",
       "      <td>0.00</td>\n",
       "      <td>0.00</td>\n",
       "      <td>2014</td>\n",
       "      <td>NaN</td>\n",
       "      <td>San Francisco</td>\n",
       "      <td>PT</td>\n",
       "    </tr>\n",
       "    <tr>\n",
       "      <th>148650</th>\n",
       "      <td>148651</td>\n",
       "      <td>Not provided</td>\n",
       "      <td>Not provided</td>\n",
       "      <td>Not Provided</td>\n",
       "      <td>Not Provided</td>\n",
       "      <td>Not Provided</td>\n",
       "      <td>Not Provided</td>\n",
       "      <td>0.00</td>\n",
       "      <td>0.00</td>\n",
       "      <td>2014</td>\n",
       "      <td>NaN</td>\n",
       "      <td>San Francisco</td>\n",
       "      <td>NaN</td>\n",
       "    </tr>\n",
       "    <tr>\n",
       "      <th>148651</th>\n",
       "      <td>148652</td>\n",
       "      <td>Not provided</td>\n",
       "      <td>Not provided</td>\n",
       "      <td>Not Provided</td>\n",
       "      <td>Not Provided</td>\n",
       "      <td>Not Provided</td>\n",
       "      <td>Not Provided</td>\n",
       "      <td>0.00</td>\n",
       "      <td>0.00</td>\n",
       "      <td>2014</td>\n",
       "      <td>NaN</td>\n",
       "      <td>San Francisco</td>\n",
       "      <td>NaN</td>\n",
       "    </tr>\n",
       "    <tr>\n",
       "      <th>148652</th>\n",
       "      <td>148653</td>\n",
       "      <td>Not provided</td>\n",
       "      <td>Not provided</td>\n",
       "      <td>Not Provided</td>\n",
       "      <td>Not Provided</td>\n",
       "      <td>Not Provided</td>\n",
       "      <td>Not Provided</td>\n",
       "      <td>0.00</td>\n",
       "      <td>0.00</td>\n",
       "      <td>2014</td>\n",
       "      <td>NaN</td>\n",
       "      <td>San Francisco</td>\n",
       "      <td>NaN</td>\n",
       "    </tr>\n",
       "    <tr>\n",
       "      <th>148653</th>\n",
       "      <td>148654</td>\n",
       "      <td>Joe Lopez</td>\n",
       "      <td>Counselor, Log Cabin Ranch</td>\n",
       "      <td>0.00</td>\n",
       "      <td>0.00</td>\n",
       "      <td>-618.13</td>\n",
       "      <td>0.00</td>\n",
       "      <td>-618.13</td>\n",
       "      <td>-618.13</td>\n",
       "      <td>2014</td>\n",
       "      <td>NaN</td>\n",
       "      <td>San Francisco</td>\n",
       "      <td>PT</td>\n",
       "    </tr>\n",
       "  </tbody>\n",
       "</table>\n",
       "<p>148654 rows × 13 columns</p>\n",
       "</div>"
      ],
      "text/plain": [
       "            Id       EmployeeName  \\\n",
       "0            1     NATHANIEL FORD   \n",
       "1            2       GARY JIMENEZ   \n",
       "2            3     ALBERT PARDINI   \n",
       "3            4  CHRISTOPHER CHONG   \n",
       "4            5    PATRICK GARDNER   \n",
       "...        ...                ...   \n",
       "148649  148650      Roy I Tillery   \n",
       "148650  148651       Not provided   \n",
       "148651  148652       Not provided   \n",
       "148652  148653       Not provided   \n",
       "148653  148654          Joe Lopez   \n",
       "\n",
       "                                              JobTitle       BasePay  \\\n",
       "0       GENERAL MANAGER-METROPOLITAN TRANSIT AUTHORITY     167411.18   \n",
       "1                      CAPTAIN III (POLICE DEPARTMENT)     155966.02   \n",
       "2                      CAPTAIN III (POLICE DEPARTMENT)     212739.13   \n",
       "3                 WIRE ROPE CABLE MAINTENANCE MECHANIC       77916.0   \n",
       "4         DEPUTY CHIEF OF DEPARTMENT,(FIRE DEPARTMENT)      134401.6   \n",
       "...                                                ...           ...   \n",
       "148649                                       Custodian          0.00   \n",
       "148650                                    Not provided  Not Provided   \n",
       "148651                                    Not provided  Not Provided   \n",
       "148652                                    Not provided  Not Provided   \n",
       "148653                      Counselor, Log Cabin Ranch          0.00   \n",
       "\n",
       "         OvertimePay      OtherPay      Benefits   TotalPay  TotalPayBenefits  \\\n",
       "0                0.0     400184.25           NaN  567595.43         567595.43   \n",
       "1          245131.88     137811.38           NaN  538909.28         538909.28   \n",
       "2          106088.18       16452.6           NaN  335279.91         335279.91   \n",
       "3           56120.71      198306.9           NaN  332343.61         332343.61   \n",
       "4             9737.0     182234.59           NaN  326373.19         326373.19   \n",
       "...              ...           ...           ...        ...               ...   \n",
       "148649          0.00          0.00          0.00       0.00              0.00   \n",
       "148650  Not Provided  Not Provided  Not Provided       0.00              0.00   \n",
       "148651  Not Provided  Not Provided  Not Provided       0.00              0.00   \n",
       "148652  Not Provided  Not Provided  Not Provided       0.00              0.00   \n",
       "148653          0.00       -618.13          0.00    -618.13           -618.13   \n",
       "\n",
       "        Year  Notes         Agency Status  \n",
       "0       2011    NaN  San Francisco    NaN  \n",
       "1       2011    NaN  San Francisco    NaN  \n",
       "2       2011    NaN  San Francisco    NaN  \n",
       "3       2011    NaN  San Francisco    NaN  \n",
       "4       2011    NaN  San Francisco    NaN  \n",
       "...      ...    ...            ...    ...  \n",
       "148649  2014    NaN  San Francisco     PT  \n",
       "148650  2014    NaN  San Francisco    NaN  \n",
       "148651  2014    NaN  San Francisco    NaN  \n",
       "148652  2014    NaN  San Francisco    NaN  \n",
       "148653  2014    NaN  San Francisco     PT  \n",
       "\n",
       "[148654 rows x 13 columns]"
      ]
     },
     "execution_count": 6,
     "metadata": {},
     "output_type": "execute_result"
    }
   ],
   "source": [
    "df_new = pd.DataFrame()\n",
    "df_new = df\n",
    "df_new = df[pd.to_numeric(df['BasePay'], errors ='coerce' ).notna()] # isna() is the same as isnull()\n",
    "df"
   ]
  },
  {
   "cell_type": "code",
   "execution_count": 7,
   "id": "e81ed05f",
   "metadata": {},
   "outputs": [
    {
     "data": {
      "text/plain": [
       "0.00        1298\n",
       "54703.00     338\n",
       "55026.00     297\n",
       "48472.40     210\n",
       "65448.00     153\n",
       "            ... \n",
       "79070.51       1\n",
       "50993.45       1\n",
       "23296.84       1\n",
       "96647.84       1\n",
       "94702.00       1\n",
       "Name: BasePay, Length: 109489, dtype: int64"
      ]
     },
     "execution_count": 7,
     "metadata": {},
     "output_type": "execute_result"
    }
   ],
   "source": [
    "df_new['BasePay'] = df_new['BasePay'].apply(float)\n",
    "df_new['BasePay'].value_counts()"
   ]
  },
  {
   "cell_type": "code",
   "execution_count": 8,
   "id": "aa9c4072",
   "metadata": {
    "scrolled": false
   },
   "outputs": [
    {
     "data": {
      "text/html": [
       "<div>\n",
       "<style scoped>\n",
       "    .dataframe tbody tr th:only-of-type {\n",
       "        vertical-align: middle;\n",
       "    }\n",
       "\n",
       "    .dataframe tbody tr th {\n",
       "        vertical-align: top;\n",
       "    }\n",
       "\n",
       "    .dataframe thead th {\n",
       "        text-align: right;\n",
       "    }\n",
       "</style>\n",
       "<table border=\"1\" class=\"dataframe\">\n",
       "  <thead>\n",
       "    <tr style=\"text-align: right;\">\n",
       "      <th></th>\n",
       "      <th>Id</th>\n",
       "      <th>EmployeeName</th>\n",
       "      <th>JobTitle</th>\n",
       "      <th>BasePay</th>\n",
       "      <th>OvertimePay</th>\n",
       "      <th>OtherPay</th>\n",
       "      <th>Benefits</th>\n",
       "      <th>TotalPay</th>\n",
       "      <th>TotalPayBenefits</th>\n",
       "      <th>Year</th>\n",
       "      <th>Notes</th>\n",
       "      <th>Agency</th>\n",
       "      <th>Status</th>\n",
       "    </tr>\n",
       "  </thead>\n",
       "  <tbody>\n",
       "    <tr>\n",
       "      <th>0</th>\n",
       "      <td>1</td>\n",
       "      <td>NATHANIEL FORD</td>\n",
       "      <td>GENERAL MANAGER-METROPOLITAN TRANSIT AUTHORITY</td>\n",
       "      <td>167411.18</td>\n",
       "      <td>0.0</td>\n",
       "      <td>400184.25</td>\n",
       "      <td>NaN</td>\n",
       "      <td>567595.43</td>\n",
       "      <td>567595.43</td>\n",
       "      <td>2011</td>\n",
       "      <td>NaN</td>\n",
       "      <td>San Francisco</td>\n",
       "      <td>NaN</td>\n",
       "    </tr>\n",
       "    <tr>\n",
       "      <th>1</th>\n",
       "      <td>2</td>\n",
       "      <td>GARY JIMENEZ</td>\n",
       "      <td>CAPTAIN III (POLICE DEPARTMENT)</td>\n",
       "      <td>155966.02</td>\n",
       "      <td>245131.88</td>\n",
       "      <td>137811.38</td>\n",
       "      <td>NaN</td>\n",
       "      <td>538909.28</td>\n",
       "      <td>538909.28</td>\n",
       "      <td>2011</td>\n",
       "      <td>NaN</td>\n",
       "      <td>San Francisco</td>\n",
       "      <td>NaN</td>\n",
       "    </tr>\n",
       "    <tr>\n",
       "      <th>2</th>\n",
       "      <td>3</td>\n",
       "      <td>ALBERT PARDINI</td>\n",
       "      <td>CAPTAIN III (POLICE DEPARTMENT)</td>\n",
       "      <td>212739.13</td>\n",
       "      <td>106088.18</td>\n",
       "      <td>16452.6</td>\n",
       "      <td>NaN</td>\n",
       "      <td>335279.91</td>\n",
       "      <td>335279.91</td>\n",
       "      <td>2011</td>\n",
       "      <td>NaN</td>\n",
       "      <td>San Francisco</td>\n",
       "      <td>NaN</td>\n",
       "    </tr>\n",
       "    <tr>\n",
       "      <th>3</th>\n",
       "      <td>4</td>\n",
       "      <td>CHRISTOPHER CHONG</td>\n",
       "      <td>WIRE ROPE CABLE MAINTENANCE MECHANIC</td>\n",
       "      <td>77916.00</td>\n",
       "      <td>56120.71</td>\n",
       "      <td>198306.9</td>\n",
       "      <td>NaN</td>\n",
       "      <td>332343.61</td>\n",
       "      <td>332343.61</td>\n",
       "      <td>2011</td>\n",
       "      <td>NaN</td>\n",
       "      <td>San Francisco</td>\n",
       "      <td>NaN</td>\n",
       "    </tr>\n",
       "    <tr>\n",
       "      <th>4</th>\n",
       "      <td>5</td>\n",
       "      <td>PATRICK GARDNER</td>\n",
       "      <td>DEPUTY CHIEF OF DEPARTMENT,(FIRE DEPARTMENT)</td>\n",
       "      <td>134401.60</td>\n",
       "      <td>9737.0</td>\n",
       "      <td>182234.59</td>\n",
       "      <td>NaN</td>\n",
       "      <td>326373.19</td>\n",
       "      <td>326373.19</td>\n",
       "      <td>2011</td>\n",
       "      <td>NaN</td>\n",
       "      <td>San Francisco</td>\n",
       "      <td>NaN</td>\n",
       "    </tr>\n",
       "    <tr>\n",
       "      <th>...</th>\n",
       "      <td>...</td>\n",
       "      <td>...</td>\n",
       "      <td>...</td>\n",
       "      <td>...</td>\n",
       "      <td>...</td>\n",
       "      <td>...</td>\n",
       "      <td>...</td>\n",
       "      <td>...</td>\n",
       "      <td>...</td>\n",
       "      <td>...</td>\n",
       "      <td>...</td>\n",
       "      <td>...</td>\n",
       "      <td>...</td>\n",
       "    </tr>\n",
       "    <tr>\n",
       "      <th>148613</th>\n",
       "      <td>148614</td>\n",
       "      <td>Nanette M Lloyd</td>\n",
       "      <td>Special Nurse</td>\n",
       "      <td>19.97</td>\n",
       "      <td>0.00</td>\n",
       "      <td>0.00</td>\n",
       "      <td>4.30</td>\n",
       "      <td>19.97</td>\n",
       "      <td>24.27</td>\n",
       "      <td>2014</td>\n",
       "      <td>NaN</td>\n",
       "      <td>San Francisco</td>\n",
       "      <td>PT</td>\n",
       "    </tr>\n",
       "    <tr>\n",
       "      <th>148616</th>\n",
       "      <td>148617</td>\n",
       "      <td>Afakasi O Afakasi</td>\n",
       "      <td>Public Service Trainee</td>\n",
       "      <td>21.48</td>\n",
       "      <td>0.00</td>\n",
       "      <td>0.86</td>\n",
       "      <td>0.22</td>\n",
       "      <td>22.34</td>\n",
       "      <td>22.56</td>\n",
       "      <td>2014</td>\n",
       "      <td>NaN</td>\n",
       "      <td>San Francisco</td>\n",
       "      <td>PT</td>\n",
       "    </tr>\n",
       "    <tr>\n",
       "      <th>148617</th>\n",
       "      <td>148618</td>\n",
       "      <td>Charles F Williams Iii</td>\n",
       "      <td>Pool Lifeguard</td>\n",
       "      <td>17.26</td>\n",
       "      <td>0.00</td>\n",
       "      <td>0.00</td>\n",
       "      <td>4.04</td>\n",
       "      <td>17.26</td>\n",
       "      <td>21.30</td>\n",
       "      <td>2014</td>\n",
       "      <td>NaN</td>\n",
       "      <td>San Francisco</td>\n",
       "      <td>PT</td>\n",
       "    </tr>\n",
       "    <tr>\n",
       "      <th>148619</th>\n",
       "      <td>148620</td>\n",
       "      <td>Ian V Cameron</td>\n",
       "      <td>IS Program Analyst-Assistant</td>\n",
       "      <td>6.04</td>\n",
       "      <td>0.00</td>\n",
       "      <td>10.05</td>\n",
       "      <td>2.30</td>\n",
       "      <td>16.09</td>\n",
       "      <td>18.39</td>\n",
       "      <td>2014</td>\n",
       "      <td>NaN</td>\n",
       "      <td>San Francisco</td>\n",
       "      <td>PT</td>\n",
       "    </tr>\n",
       "    <tr>\n",
       "      <th>148620</th>\n",
       "      <td>148621</td>\n",
       "      <td>India C Sabater</td>\n",
       "      <td>Recreation Leader</td>\n",
       "      <td>15.50</td>\n",
       "      <td>0.00</td>\n",
       "      <td>0.00</td>\n",
       "      <td>0.16</td>\n",
       "      <td>15.50</td>\n",
       "      <td>15.66</td>\n",
       "      <td>2014</td>\n",
       "      <td>NaN</td>\n",
       "      <td>San Francisco</td>\n",
       "      <td>PT</td>\n",
       "    </tr>\n",
       "  </tbody>\n",
       "</table>\n",
       "<p>146747 rows × 13 columns</p>\n",
       "</div>"
      ],
      "text/plain": [
       "            Id            EmployeeName  \\\n",
       "0            1          NATHANIEL FORD   \n",
       "1            2            GARY JIMENEZ   \n",
       "2            3          ALBERT PARDINI   \n",
       "3            4       CHRISTOPHER CHONG   \n",
       "4            5         PATRICK GARDNER   \n",
       "...        ...                     ...   \n",
       "148613  148614         Nanette M Lloyd   \n",
       "148616  148617       Afakasi O Afakasi   \n",
       "148617  148618  Charles F Williams Iii   \n",
       "148619  148620           Ian V Cameron   \n",
       "148620  148621         India C Sabater   \n",
       "\n",
       "                                              JobTitle    BasePay OvertimePay  \\\n",
       "0       GENERAL MANAGER-METROPOLITAN TRANSIT AUTHORITY  167411.18         0.0   \n",
       "1                      CAPTAIN III (POLICE DEPARTMENT)  155966.02   245131.88   \n",
       "2                      CAPTAIN III (POLICE DEPARTMENT)  212739.13   106088.18   \n",
       "3                 WIRE ROPE CABLE MAINTENANCE MECHANIC   77916.00    56120.71   \n",
       "4         DEPUTY CHIEF OF DEPARTMENT,(FIRE DEPARTMENT)  134401.60      9737.0   \n",
       "...                                                ...        ...         ...   \n",
       "148613                                   Special Nurse      19.97        0.00   \n",
       "148616                          Public Service Trainee      21.48        0.00   \n",
       "148617                                  Pool Lifeguard      17.26        0.00   \n",
       "148619                    IS Program Analyst-Assistant       6.04        0.00   \n",
       "148620                               Recreation Leader      15.50        0.00   \n",
       "\n",
       "         OtherPay Benefits   TotalPay  TotalPayBenefits  Year  Notes  \\\n",
       "0       400184.25      NaN  567595.43         567595.43  2011    NaN   \n",
       "1       137811.38      NaN  538909.28         538909.28  2011    NaN   \n",
       "2         16452.6      NaN  335279.91         335279.91  2011    NaN   \n",
       "3        198306.9      NaN  332343.61         332343.61  2011    NaN   \n",
       "4       182234.59      NaN  326373.19         326373.19  2011    NaN   \n",
       "...           ...      ...        ...               ...   ...    ...   \n",
       "148613       0.00     4.30      19.97             24.27  2014    NaN   \n",
       "148616       0.86     0.22      22.34             22.56  2014    NaN   \n",
       "148617       0.00     4.04      17.26             21.30  2014    NaN   \n",
       "148619      10.05     2.30      16.09             18.39  2014    NaN   \n",
       "148620       0.00     0.16      15.50             15.66  2014    NaN   \n",
       "\n",
       "               Agency Status  \n",
       "0       San Francisco    NaN  \n",
       "1       San Francisco    NaN  \n",
       "2       San Francisco    NaN  \n",
       "3       San Francisco    NaN  \n",
       "4       San Francisco    NaN  \n",
       "...               ...    ...  \n",
       "148613  San Francisco     PT  \n",
       "148616  San Francisco     PT  \n",
       "148617  San Francisco     PT  \n",
       "148619  San Francisco     PT  \n",
       "148620  San Francisco     PT  \n",
       "\n",
       "[146747 rows x 13 columns]"
      ]
     },
     "execution_count": 8,
     "metadata": {},
     "output_type": "execute_result"
    }
   ],
   "source": [
    "df_new = df_new.drop(df_new[df_new['BasePay'] == 0.0].index)\n",
    "df_new"
   ]
  },
  {
   "cell_type": "code",
   "execution_count": 9,
   "id": "f6b7a62b",
   "metadata": {
    "scrolled": false
   },
   "outputs": [
    {
     "data": {
      "text/html": [
       "<div>\n",
       "<style scoped>\n",
       "    .dataframe tbody tr th:only-of-type {\n",
       "        vertical-align: middle;\n",
       "    }\n",
       "\n",
       "    .dataframe tbody tr th {\n",
       "        vertical-align: top;\n",
       "    }\n",
       "\n",
       "    .dataframe thead th {\n",
       "        text-align: right;\n",
       "    }\n",
       "</style>\n",
       "<table border=\"1\" class=\"dataframe\">\n",
       "  <thead>\n",
       "    <tr style=\"text-align: right;\">\n",
       "      <th></th>\n",
       "      <th>Id</th>\n",
       "      <th>EmployeeName</th>\n",
       "      <th>JobTitle</th>\n",
       "      <th>BasePay</th>\n",
       "      <th>OvertimePay</th>\n",
       "      <th>OtherPay</th>\n",
       "      <th>Benefits</th>\n",
       "      <th>TotalPay</th>\n",
       "      <th>TotalPayBenefits</th>\n",
       "      <th>Year</th>\n",
       "      <th>Notes</th>\n",
       "      <th>Agency</th>\n",
       "      <th>Status</th>\n",
       "    </tr>\n",
       "  </thead>\n",
       "  <tbody>\n",
       "    <tr>\n",
       "      <th>0</th>\n",
       "      <td>1</td>\n",
       "      <td>NATHANIEL FORD</td>\n",
       "      <td>GENERAL MANAGER-METROPOLITAN TRANSIT AUTHORITY</td>\n",
       "      <td>167411.18</td>\n",
       "      <td>0.0</td>\n",
       "      <td>400184.25</td>\n",
       "      <td>NaN</td>\n",
       "      <td>567595.43</td>\n",
       "      <td>567595.43</td>\n",
       "      <td>2011</td>\n",
       "      <td>NaN</td>\n",
       "      <td>San Francisco</td>\n",
       "      <td>NaN</td>\n",
       "    </tr>\n",
       "    <tr>\n",
       "      <th>1</th>\n",
       "      <td>2</td>\n",
       "      <td>GARY JIMENEZ</td>\n",
       "      <td>CAPTAIN III (POLICE DEPARTMENT)</td>\n",
       "      <td>155966.02</td>\n",
       "      <td>245131.88</td>\n",
       "      <td>137811.38</td>\n",
       "      <td>NaN</td>\n",
       "      <td>538909.28</td>\n",
       "      <td>538909.28</td>\n",
       "      <td>2011</td>\n",
       "      <td>NaN</td>\n",
       "      <td>San Francisco</td>\n",
       "      <td>NaN</td>\n",
       "    </tr>\n",
       "    <tr>\n",
       "      <th>2</th>\n",
       "      <td>3</td>\n",
       "      <td>ALBERT PARDINI</td>\n",
       "      <td>CAPTAIN III (POLICE DEPARTMENT)</td>\n",
       "      <td>212739.13</td>\n",
       "      <td>106088.18</td>\n",
       "      <td>16452.6</td>\n",
       "      <td>NaN</td>\n",
       "      <td>335279.91</td>\n",
       "      <td>335279.91</td>\n",
       "      <td>2011</td>\n",
       "      <td>NaN</td>\n",
       "      <td>San Francisco</td>\n",
       "      <td>NaN</td>\n",
       "    </tr>\n",
       "    <tr>\n",
       "      <th>3</th>\n",
       "      <td>4</td>\n",
       "      <td>CHRISTOPHER CHONG</td>\n",
       "      <td>WIRE ROPE CABLE MAINTENANCE MECHANIC</td>\n",
       "      <td>77916.00</td>\n",
       "      <td>56120.71</td>\n",
       "      <td>198306.9</td>\n",
       "      <td>NaN</td>\n",
       "      <td>332343.61</td>\n",
       "      <td>332343.61</td>\n",
       "      <td>2011</td>\n",
       "      <td>NaN</td>\n",
       "      <td>San Francisco</td>\n",
       "      <td>NaN</td>\n",
       "    </tr>\n",
       "    <tr>\n",
       "      <th>4</th>\n",
       "      <td>5</td>\n",
       "      <td>PATRICK GARDNER</td>\n",
       "      <td>DEPUTY CHIEF OF DEPARTMENT,(FIRE DEPARTMENT)</td>\n",
       "      <td>134401.60</td>\n",
       "      <td>9737.0</td>\n",
       "      <td>182234.59</td>\n",
       "      <td>NaN</td>\n",
       "      <td>326373.19</td>\n",
       "      <td>326373.19</td>\n",
       "      <td>2011</td>\n",
       "      <td>NaN</td>\n",
       "      <td>San Francisco</td>\n",
       "      <td>NaN</td>\n",
       "    </tr>\n",
       "    <tr>\n",
       "      <th>...</th>\n",
       "      <td>...</td>\n",
       "      <td>...</td>\n",
       "      <td>...</td>\n",
       "      <td>...</td>\n",
       "      <td>...</td>\n",
       "      <td>...</td>\n",
       "      <td>...</td>\n",
       "      <td>...</td>\n",
       "      <td>...</td>\n",
       "      <td>...</td>\n",
       "      <td>...</td>\n",
       "      <td>...</td>\n",
       "      <td>...</td>\n",
       "    </tr>\n",
       "    <tr>\n",
       "      <th>146731</th>\n",
       "      <td>148614</td>\n",
       "      <td>Nanette M Lloyd</td>\n",
       "      <td>Special Nurse</td>\n",
       "      <td>19.97</td>\n",
       "      <td>0.00</td>\n",
       "      <td>0.00</td>\n",
       "      <td>4.30</td>\n",
       "      <td>19.97</td>\n",
       "      <td>24.27</td>\n",
       "      <td>2014</td>\n",
       "      <td>NaN</td>\n",
       "      <td>San Francisco</td>\n",
       "      <td>PT</td>\n",
       "    </tr>\n",
       "    <tr>\n",
       "      <th>146732</th>\n",
       "      <td>148617</td>\n",
       "      <td>Afakasi O Afakasi</td>\n",
       "      <td>Public Service Trainee</td>\n",
       "      <td>21.48</td>\n",
       "      <td>0.00</td>\n",
       "      <td>0.86</td>\n",
       "      <td>0.22</td>\n",
       "      <td>22.34</td>\n",
       "      <td>22.56</td>\n",
       "      <td>2014</td>\n",
       "      <td>NaN</td>\n",
       "      <td>San Francisco</td>\n",
       "      <td>PT</td>\n",
       "    </tr>\n",
       "    <tr>\n",
       "      <th>146733</th>\n",
       "      <td>148618</td>\n",
       "      <td>Charles F Williams Iii</td>\n",
       "      <td>Pool Lifeguard</td>\n",
       "      <td>17.26</td>\n",
       "      <td>0.00</td>\n",
       "      <td>0.00</td>\n",
       "      <td>4.04</td>\n",
       "      <td>17.26</td>\n",
       "      <td>21.30</td>\n",
       "      <td>2014</td>\n",
       "      <td>NaN</td>\n",
       "      <td>San Francisco</td>\n",
       "      <td>PT</td>\n",
       "    </tr>\n",
       "    <tr>\n",
       "      <th>146734</th>\n",
       "      <td>148620</td>\n",
       "      <td>Ian V Cameron</td>\n",
       "      <td>IS Program Analyst-Assistant</td>\n",
       "      <td>6.04</td>\n",
       "      <td>0.00</td>\n",
       "      <td>10.05</td>\n",
       "      <td>2.30</td>\n",
       "      <td>16.09</td>\n",
       "      <td>18.39</td>\n",
       "      <td>2014</td>\n",
       "      <td>NaN</td>\n",
       "      <td>San Francisco</td>\n",
       "      <td>PT</td>\n",
       "    </tr>\n",
       "    <tr>\n",
       "      <th>146735</th>\n",
       "      <td>148621</td>\n",
       "      <td>India C Sabater</td>\n",
       "      <td>Recreation Leader</td>\n",
       "      <td>15.50</td>\n",
       "      <td>0.00</td>\n",
       "      <td>0.00</td>\n",
       "      <td>0.16</td>\n",
       "      <td>15.50</td>\n",
       "      <td>15.66</td>\n",
       "      <td>2014</td>\n",
       "      <td>NaN</td>\n",
       "      <td>San Francisco</td>\n",
       "      <td>PT</td>\n",
       "    </tr>\n",
       "  </tbody>\n",
       "</table>\n",
       "<p>146736 rows × 13 columns</p>\n",
       "</div>"
      ],
      "text/plain": [
       "            Id            EmployeeName  \\\n",
       "0            1          NATHANIEL FORD   \n",
       "1            2            GARY JIMENEZ   \n",
       "2            3          ALBERT PARDINI   \n",
       "3            4       CHRISTOPHER CHONG   \n",
       "4            5         PATRICK GARDNER   \n",
       "...        ...                     ...   \n",
       "146731  148614         Nanette M Lloyd   \n",
       "146732  148617       Afakasi O Afakasi   \n",
       "146733  148618  Charles F Williams Iii   \n",
       "146734  148620           Ian V Cameron   \n",
       "146735  148621         India C Sabater   \n",
       "\n",
       "                                              JobTitle    BasePay OvertimePay  \\\n",
       "0       GENERAL MANAGER-METROPOLITAN TRANSIT AUTHORITY  167411.18         0.0   \n",
       "1                      CAPTAIN III (POLICE DEPARTMENT)  155966.02   245131.88   \n",
       "2                      CAPTAIN III (POLICE DEPARTMENT)  212739.13   106088.18   \n",
       "3                 WIRE ROPE CABLE MAINTENANCE MECHANIC   77916.00    56120.71   \n",
       "4         DEPUTY CHIEF OF DEPARTMENT,(FIRE DEPARTMENT)  134401.60      9737.0   \n",
       "...                                                ...        ...         ...   \n",
       "146731                                   Special Nurse      19.97        0.00   \n",
       "146732                          Public Service Trainee      21.48        0.00   \n",
       "146733                                  Pool Lifeguard      17.26        0.00   \n",
       "146734                    IS Program Analyst-Assistant       6.04        0.00   \n",
       "146735                               Recreation Leader      15.50        0.00   \n",
       "\n",
       "         OtherPay Benefits   TotalPay  TotalPayBenefits  Year  Notes  \\\n",
       "0       400184.25      NaN  567595.43         567595.43  2011    NaN   \n",
       "1       137811.38      NaN  538909.28         538909.28  2011    NaN   \n",
       "2         16452.6      NaN  335279.91         335279.91  2011    NaN   \n",
       "3        198306.9      NaN  332343.61         332343.61  2011    NaN   \n",
       "4       182234.59      NaN  326373.19         326373.19  2011    NaN   \n",
       "...           ...      ...        ...               ...   ...    ...   \n",
       "146731       0.00     4.30      19.97             24.27  2014    NaN   \n",
       "146732       0.86     0.22      22.34             22.56  2014    NaN   \n",
       "146733       0.00     4.04      17.26             21.30  2014    NaN   \n",
       "146734      10.05     2.30      16.09             18.39  2014    NaN   \n",
       "146735       0.00     0.16      15.50             15.66  2014    NaN   \n",
       "\n",
       "               Agency Status  \n",
       "0       San Francisco    NaN  \n",
       "1       San Francisco    NaN  \n",
       "2       San Francisco    NaN  \n",
       "3       San Francisco    NaN  \n",
       "4       San Francisco    NaN  \n",
       "...               ...    ...  \n",
       "146731  San Francisco     PT  \n",
       "146732  San Francisco     PT  \n",
       "146733  San Francisco     PT  \n",
       "146734  San Francisco     PT  \n",
       "146735  San Francisco     PT  \n",
       "\n",
       "[146736 rows x 13 columns]"
      ]
     },
     "execution_count": 9,
     "metadata": {},
     "output_type": "execute_result"
    }
   ],
   "source": [
    "df_new = df_new[df_new['BasePay'] > 0]\n",
    "df_new = df_new.reset_index(drop = True)\n",
    "df_new"
   ]
  },
  {
   "cell_type": "code",
   "execution_count": 10,
   "id": "058601f6",
   "metadata": {},
   "outputs": [],
   "source": [
    "# df[df['BasePay'].notnull()]['BasePay'].value_counts()\n",
    "# df = df.drop(df[df['BasePay'] == 'Not Provided'].index)\n",
    "# df = df.drop(df[df['BasePay'] == '0.00'].index)\n",
    "# df = df.drop(df[df['BasePay'] == 0.0].index)\n",
    "# df['BasePay'] = df['BasePay'].dropna()\n",
    "# df['BasePay'] = df['BasePay'].apply(float) # alternative way\n",
    "# df = df.drop(df[(df['BasePay'] > 0.0) == False].index)\n",
    "# df = df.reset_index(drop = True)\n",
    "# (df == df_new)['BasePay'].value_counts()"
   ]
  },
  {
   "cell_type": "markdown",
   "id": "be8eec93",
   "metadata": {},
   "source": [
    "Now, it seems that the row BasePay is clean, still there is room for future improvement. Let us continue working with stats"
   ]
  },
  {
   "cell_type": "markdown",
   "id": "eb1c34f4",
   "metadata": {},
   "source": [
    "<h3>Working with Row `OvertimePay` "
   ]
  },
  {
   "cell_type": "markdown",
   "id": "e369b416",
   "metadata": {},
   "source": [
    "<h4>Cleaning "
   ]
  },
  {
   "cell_type": "code",
   "execution_count": 11,
   "id": "bd61dba5",
   "metadata": {},
   "outputs": [
    {
     "data": {
      "text/plain": [
       "0.0         64699\n",
       "0.00        10796\n",
       "10.68          41\n",
       "681.23         41\n",
       "152.13         38\n",
       "            ...  \n",
       "27376.88        1\n",
       "6779.84         1\n",
       "3537.37         1\n",
       "27382.38        1\n",
       "7672.03         1\n",
       "Name: OvertimePay, Length: 66482, dtype: int64"
      ]
     },
     "execution_count": 11,
     "metadata": {},
     "output_type": "execute_result"
    }
   ],
   "source": [
    "df_new['OvertimePay'].value_counts()\n"
   ]
  },
  {
   "cell_type": "markdown",
   "id": "7243c526",
   "metadata": {},
   "source": [
    "We can see that a lot of rows have value zero"
   ]
  },
  {
   "cell_type": "code",
   "execution_count": 12,
   "id": "115f9010",
   "metadata": {},
   "outputs": [],
   "source": [
    "df_new['OvertimePay'] = df_new['OvertimePay'].apply(float)"
   ]
  },
  {
   "cell_type": "code",
   "execution_count": 13,
   "id": "5befd91e",
   "metadata": {},
   "outputs": [
    {
     "data": {
      "text/html": [
       "<div>\n",
       "<style scoped>\n",
       "    .dataframe tbody tr th:only-of-type {\n",
       "        vertical-align: middle;\n",
       "    }\n",
       "\n",
       "    .dataframe tbody tr th {\n",
       "        vertical-align: top;\n",
       "    }\n",
       "\n",
       "    .dataframe thead th {\n",
       "        text-align: right;\n",
       "    }\n",
       "</style>\n",
       "<table border=\"1\" class=\"dataframe\">\n",
       "  <thead>\n",
       "    <tr style=\"text-align: right;\">\n",
       "      <th></th>\n",
       "      <th>Id</th>\n",
       "      <th>EmployeeName</th>\n",
       "      <th>JobTitle</th>\n",
       "      <th>BasePay</th>\n",
       "      <th>OvertimePay</th>\n",
       "      <th>OtherPay</th>\n",
       "      <th>Benefits</th>\n",
       "      <th>TotalPay</th>\n",
       "      <th>TotalPayBenefits</th>\n",
       "      <th>Year</th>\n",
       "      <th>Notes</th>\n",
       "      <th>Agency</th>\n",
       "      <th>Status</th>\n",
       "    </tr>\n",
       "  </thead>\n",
       "  <tbody>\n",
       "    <tr>\n",
       "      <th>89827</th>\n",
       "      <td>90715</td>\n",
       "      <td>Claudia M Sanchez</td>\n",
       "      <td>Senior Eligibility Worker</td>\n",
       "      <td>75033.03</td>\n",
       "      <td>-0.01</td>\n",
       "      <td>1540.0</td>\n",
       "      <td>28864.64</td>\n",
       "      <td>76573.02</td>\n",
       "      <td>105437.66</td>\n",
       "      <td>2013</td>\n",
       "      <td>NaN</td>\n",
       "      <td>San Francisco</td>\n",
       "      <td>NaN</td>\n",
       "    </tr>\n",
       "  </tbody>\n",
       "</table>\n",
       "</div>"
      ],
      "text/plain": [
       "          Id       EmployeeName                   JobTitle   BasePay  \\\n",
       "89827  90715  Claudia M Sanchez  Senior Eligibility Worker  75033.03   \n",
       "\n",
       "       OvertimePay OtherPay  Benefits  TotalPay  TotalPayBenefits  Year  \\\n",
       "89827        -0.01   1540.0  28864.64  76573.02         105437.66  2013   \n",
       "\n",
       "       Notes         Agency Status  \n",
       "89827    NaN  San Francisco    NaN  "
      ]
     },
     "execution_count": 13,
     "metadata": {},
     "output_type": "execute_result"
    }
   ],
   "source": [
    "df_new[(df_new['OvertimePay'].astype(float) < 0)]"
   ]
  },
  {
   "cell_type": "markdown",
   "id": "b660489a",
   "metadata": {},
   "source": [
    "It is strange that for OvertimePay someone got -0.01, still this value is almost not effecting to the statistics"
   ]
  },
  {
   "cell_type": "code",
   "execution_count": 14,
   "id": "dc8fd892",
   "metadata": {},
   "outputs": [
    {
     "data": {
      "text/plain": [
       "0.00        75495\n",
       "10.68          41\n",
       "681.23         41\n",
       "152.13         38\n",
       "1314.78        27\n",
       "            ...  \n",
       "5612.46         1\n",
       "729.51          1\n",
       "15003.14        1\n",
       "18466.90        1\n",
       "18726.02        1\n",
       "Name: OvertimePay, Length: 65928, dtype: int64"
      ]
     },
     "execution_count": 14,
     "metadata": {},
     "output_type": "execute_result"
    }
   ],
   "source": [
    "df_new['OvertimePay'].value_counts()"
   ]
  },
  {
   "cell_type": "markdown",
   "id": "1746a329",
   "metadata": {},
   "source": [
    "There are so many zeros, and I believe it makes sense, as not everyone tend to overwork"
   ]
  },
  {
   "cell_type": "markdown",
   "id": "f6b06ce8",
   "metadata": {},
   "source": [
    "<h3>Working with Row `Benefits` "
   ]
  },
  {
   "cell_type": "markdown",
   "id": "c0c7131c",
   "metadata": {},
   "source": [
    "<h4>Cleaning "
   ]
  },
  {
   "cell_type": "code",
   "execution_count": 15,
   "id": "fa43bab2",
   "metadata": {
    "scrolled": true
   },
   "outputs": [
    {
     "data": {
      "text/plain": [
       "NaN         35707\n",
       "0.0           907\n",
       "0.00          522\n",
       "25699.2        83\n",
       "37055.22       82\n",
       "            ...  \n",
       "38120.69        1\n",
       "38119.63        1\n",
       "38118.54        1\n",
       "38117.59        1\n",
       "12.51           1\n",
       "Name: Benefits, Length: 99093, dtype: int64"
      ]
     },
     "execution_count": 15,
     "metadata": {},
     "output_type": "execute_result"
    }
   ],
   "source": [
    "df_new['Benefits'].value_counts(dropna = False)"
   ]
  },
  {
   "cell_type": "markdown",
   "id": "7cc0d8cf",
   "metadata": {},
   "source": [
    "Again, bonuses are recieved not by everyone, that is why no values will be dropped"
   ]
  },
  {
   "cell_type": "code",
   "execution_count": 16,
   "id": "be80ed5e",
   "metadata": {},
   "outputs": [
    {
     "data": {
      "text/html": [
       "<div>\n",
       "<style scoped>\n",
       "    .dataframe tbody tr th:only-of-type {\n",
       "        vertical-align: middle;\n",
       "    }\n",
       "\n",
       "    .dataframe tbody tr th {\n",
       "        vertical-align: top;\n",
       "    }\n",
       "\n",
       "    .dataframe thead th {\n",
       "        text-align: right;\n",
       "    }\n",
       "</style>\n",
       "<table border=\"1\" class=\"dataframe\">\n",
       "  <thead>\n",
       "    <tr style=\"text-align: right;\">\n",
       "      <th></th>\n",
       "      <th>Id</th>\n",
       "      <th>EmployeeName</th>\n",
       "      <th>JobTitle</th>\n",
       "      <th>BasePay</th>\n",
       "      <th>OvertimePay</th>\n",
       "      <th>OtherPay</th>\n",
       "      <th>Benefits</th>\n",
       "      <th>TotalPay</th>\n",
       "      <th>TotalPayBenefits</th>\n",
       "      <th>Year</th>\n",
       "      <th>Notes</th>\n",
       "      <th>Agency</th>\n",
       "      <th>Status</th>\n",
       "    </tr>\n",
       "  </thead>\n",
       "  <tbody>\n",
       "    <tr>\n",
       "      <th>0</th>\n",
       "      <td>1</td>\n",
       "      <td>NATHANIEL FORD</td>\n",
       "      <td>GENERAL MANAGER-METROPOLITAN TRANSIT AUTHORITY</td>\n",
       "      <td>167411.18</td>\n",
       "      <td>0.00</td>\n",
       "      <td>400184.25</td>\n",
       "      <td>0.00</td>\n",
       "      <td>567595.43</td>\n",
       "      <td>567595.43</td>\n",
       "      <td>2011</td>\n",
       "      <td>NaN</td>\n",
       "      <td>San Francisco</td>\n",
       "      <td>NaN</td>\n",
       "    </tr>\n",
       "    <tr>\n",
       "      <th>1</th>\n",
       "      <td>2</td>\n",
       "      <td>GARY JIMENEZ</td>\n",
       "      <td>CAPTAIN III (POLICE DEPARTMENT)</td>\n",
       "      <td>155966.02</td>\n",
       "      <td>245131.88</td>\n",
       "      <td>137811.38</td>\n",
       "      <td>0.00</td>\n",
       "      <td>538909.28</td>\n",
       "      <td>538909.28</td>\n",
       "      <td>2011</td>\n",
       "      <td>NaN</td>\n",
       "      <td>San Francisco</td>\n",
       "      <td>NaN</td>\n",
       "    </tr>\n",
       "    <tr>\n",
       "      <th>2</th>\n",
       "      <td>3</td>\n",
       "      <td>ALBERT PARDINI</td>\n",
       "      <td>CAPTAIN III (POLICE DEPARTMENT)</td>\n",
       "      <td>212739.13</td>\n",
       "      <td>106088.18</td>\n",
       "      <td>16452.6</td>\n",
       "      <td>0.00</td>\n",
       "      <td>335279.91</td>\n",
       "      <td>335279.91</td>\n",
       "      <td>2011</td>\n",
       "      <td>NaN</td>\n",
       "      <td>San Francisco</td>\n",
       "      <td>NaN</td>\n",
       "    </tr>\n",
       "    <tr>\n",
       "      <th>3</th>\n",
       "      <td>4</td>\n",
       "      <td>CHRISTOPHER CHONG</td>\n",
       "      <td>WIRE ROPE CABLE MAINTENANCE MECHANIC</td>\n",
       "      <td>77916.00</td>\n",
       "      <td>56120.71</td>\n",
       "      <td>198306.9</td>\n",
       "      <td>0.00</td>\n",
       "      <td>332343.61</td>\n",
       "      <td>332343.61</td>\n",
       "      <td>2011</td>\n",
       "      <td>NaN</td>\n",
       "      <td>San Francisco</td>\n",
       "      <td>NaN</td>\n",
       "    </tr>\n",
       "    <tr>\n",
       "      <th>4</th>\n",
       "      <td>5</td>\n",
       "      <td>PATRICK GARDNER</td>\n",
       "      <td>DEPUTY CHIEF OF DEPARTMENT,(FIRE DEPARTMENT)</td>\n",
       "      <td>134401.60</td>\n",
       "      <td>9737.00</td>\n",
       "      <td>182234.59</td>\n",
       "      <td>0.00</td>\n",
       "      <td>326373.19</td>\n",
       "      <td>326373.19</td>\n",
       "      <td>2011</td>\n",
       "      <td>NaN</td>\n",
       "      <td>San Francisco</td>\n",
       "      <td>NaN</td>\n",
       "    </tr>\n",
       "    <tr>\n",
       "      <th>...</th>\n",
       "      <td>...</td>\n",
       "      <td>...</td>\n",
       "      <td>...</td>\n",
       "      <td>...</td>\n",
       "      <td>...</td>\n",
       "      <td>...</td>\n",
       "      <td>...</td>\n",
       "      <td>...</td>\n",
       "      <td>...</td>\n",
       "      <td>...</td>\n",
       "      <td>...</td>\n",
       "      <td>...</td>\n",
       "      <td>...</td>\n",
       "    </tr>\n",
       "    <tr>\n",
       "      <th>146731</th>\n",
       "      <td>148614</td>\n",
       "      <td>Nanette M Lloyd</td>\n",
       "      <td>Special Nurse</td>\n",
       "      <td>19.97</td>\n",
       "      <td>0.00</td>\n",
       "      <td>0.00</td>\n",
       "      <td>4.30</td>\n",
       "      <td>19.97</td>\n",
       "      <td>24.27</td>\n",
       "      <td>2014</td>\n",
       "      <td>NaN</td>\n",
       "      <td>San Francisco</td>\n",
       "      <td>PT</td>\n",
       "    </tr>\n",
       "    <tr>\n",
       "      <th>146732</th>\n",
       "      <td>148617</td>\n",
       "      <td>Afakasi O Afakasi</td>\n",
       "      <td>Public Service Trainee</td>\n",
       "      <td>21.48</td>\n",
       "      <td>0.00</td>\n",
       "      <td>0.86</td>\n",
       "      <td>0.22</td>\n",
       "      <td>22.34</td>\n",
       "      <td>22.56</td>\n",
       "      <td>2014</td>\n",
       "      <td>NaN</td>\n",
       "      <td>San Francisco</td>\n",
       "      <td>PT</td>\n",
       "    </tr>\n",
       "    <tr>\n",
       "      <th>146733</th>\n",
       "      <td>148618</td>\n",
       "      <td>Charles F Williams Iii</td>\n",
       "      <td>Pool Lifeguard</td>\n",
       "      <td>17.26</td>\n",
       "      <td>0.00</td>\n",
       "      <td>0.00</td>\n",
       "      <td>4.04</td>\n",
       "      <td>17.26</td>\n",
       "      <td>21.30</td>\n",
       "      <td>2014</td>\n",
       "      <td>NaN</td>\n",
       "      <td>San Francisco</td>\n",
       "      <td>PT</td>\n",
       "    </tr>\n",
       "    <tr>\n",
       "      <th>146734</th>\n",
       "      <td>148620</td>\n",
       "      <td>Ian V Cameron</td>\n",
       "      <td>IS Program Analyst-Assistant</td>\n",
       "      <td>6.04</td>\n",
       "      <td>0.00</td>\n",
       "      <td>10.05</td>\n",
       "      <td>2.30</td>\n",
       "      <td>16.09</td>\n",
       "      <td>18.39</td>\n",
       "      <td>2014</td>\n",
       "      <td>NaN</td>\n",
       "      <td>San Francisco</td>\n",
       "      <td>PT</td>\n",
       "    </tr>\n",
       "    <tr>\n",
       "      <th>146735</th>\n",
       "      <td>148621</td>\n",
       "      <td>India C Sabater</td>\n",
       "      <td>Recreation Leader</td>\n",
       "      <td>15.50</td>\n",
       "      <td>0.00</td>\n",
       "      <td>0.00</td>\n",
       "      <td>0.16</td>\n",
       "      <td>15.50</td>\n",
       "      <td>15.66</td>\n",
       "      <td>2014</td>\n",
       "      <td>NaN</td>\n",
       "      <td>San Francisco</td>\n",
       "      <td>PT</td>\n",
       "    </tr>\n",
       "  </tbody>\n",
       "</table>\n",
       "<p>146736 rows × 13 columns</p>\n",
       "</div>"
      ],
      "text/plain": [
       "            Id            EmployeeName  \\\n",
       "0            1          NATHANIEL FORD   \n",
       "1            2            GARY JIMENEZ   \n",
       "2            3          ALBERT PARDINI   \n",
       "3            4       CHRISTOPHER CHONG   \n",
       "4            5         PATRICK GARDNER   \n",
       "...        ...                     ...   \n",
       "146731  148614         Nanette M Lloyd   \n",
       "146732  148617       Afakasi O Afakasi   \n",
       "146733  148618  Charles F Williams Iii   \n",
       "146734  148620           Ian V Cameron   \n",
       "146735  148621         India C Sabater   \n",
       "\n",
       "                                              JobTitle    BasePay  \\\n",
       "0       GENERAL MANAGER-METROPOLITAN TRANSIT AUTHORITY  167411.18   \n",
       "1                      CAPTAIN III (POLICE DEPARTMENT)  155966.02   \n",
       "2                      CAPTAIN III (POLICE DEPARTMENT)  212739.13   \n",
       "3                 WIRE ROPE CABLE MAINTENANCE MECHANIC   77916.00   \n",
       "4         DEPUTY CHIEF OF DEPARTMENT,(FIRE DEPARTMENT)  134401.60   \n",
       "...                                                ...        ...   \n",
       "146731                                   Special Nurse      19.97   \n",
       "146732                          Public Service Trainee      21.48   \n",
       "146733                                  Pool Lifeguard      17.26   \n",
       "146734                    IS Program Analyst-Assistant       6.04   \n",
       "146735                               Recreation Leader      15.50   \n",
       "\n",
       "        OvertimePay   OtherPay  Benefits   TotalPay  TotalPayBenefits  Year  \\\n",
       "0              0.00  400184.25      0.00  567595.43         567595.43  2011   \n",
       "1         245131.88  137811.38      0.00  538909.28         538909.28  2011   \n",
       "2         106088.18    16452.6      0.00  335279.91         335279.91  2011   \n",
       "3          56120.71   198306.9      0.00  332343.61         332343.61  2011   \n",
       "4           9737.00  182234.59      0.00  326373.19         326373.19  2011   \n",
       "...             ...        ...       ...        ...               ...   ...   \n",
       "146731         0.00       0.00      4.30      19.97             24.27  2014   \n",
       "146732         0.00       0.86      0.22      22.34             22.56  2014   \n",
       "146733         0.00       0.00      4.04      17.26             21.30  2014   \n",
       "146734         0.00      10.05      2.30      16.09             18.39  2014   \n",
       "146735         0.00       0.00      0.16      15.50             15.66  2014   \n",
       "\n",
       "        Notes         Agency Status  \n",
       "0         NaN  San Francisco    NaN  \n",
       "1         NaN  San Francisco    NaN  \n",
       "2         NaN  San Francisco    NaN  \n",
       "3         NaN  San Francisco    NaN  \n",
       "4         NaN  San Francisco    NaN  \n",
       "...       ...            ...    ...  \n",
       "146731    NaN  San Francisco     PT  \n",
       "146732    NaN  San Francisco     PT  \n",
       "146733    NaN  San Francisco     PT  \n",
       "146734    NaN  San Francisco     PT  \n",
       "146735    NaN  San Francisco     PT  \n",
       "\n",
       "[146736 rows x 13 columns]"
      ]
     },
     "execution_count": 16,
     "metadata": {},
     "output_type": "execute_result"
    }
   ],
   "source": [
    "df_new['Benefits'] = df_new['Benefits'].astype(float)\n",
    "df_new['Benefits'] = df_new['Benefits'].fillna(0)\n",
    "df_new"
   ]
  },
  {
   "cell_type": "code",
   "execution_count": 17,
   "id": "4220af8b",
   "metadata": {},
   "outputs": [
    {
     "data": {
      "text/html": [
       "<div>\n",
       "<style scoped>\n",
       "    .dataframe tbody tr th:only-of-type {\n",
       "        vertical-align: middle;\n",
       "    }\n",
       "\n",
       "    .dataframe tbody tr th {\n",
       "        vertical-align: top;\n",
       "    }\n",
       "\n",
       "    .dataframe thead th {\n",
       "        text-align: right;\n",
       "    }\n",
       "</style>\n",
       "<table border=\"1\" class=\"dataframe\">\n",
       "  <thead>\n",
       "    <tr style=\"text-align: right;\">\n",
       "      <th></th>\n",
       "      <th>Id</th>\n",
       "      <th>EmployeeName</th>\n",
       "      <th>JobTitle</th>\n",
       "      <th>BasePay</th>\n",
       "      <th>OvertimePay</th>\n",
       "      <th>OtherPay</th>\n",
       "      <th>Benefits</th>\n",
       "      <th>TotalPay</th>\n",
       "      <th>TotalPayBenefits</th>\n",
       "      <th>Year</th>\n",
       "      <th>Notes</th>\n",
       "      <th>Agency</th>\n",
       "      <th>Status</th>\n",
       "    </tr>\n",
       "  </thead>\n",
       "  <tbody>\n",
       "    <tr>\n",
       "      <th>0</th>\n",
       "      <td>1</td>\n",
       "      <td>NATHANIEL FORD</td>\n",
       "      <td>GENERAL MANAGER-METROPOLITAN TRANSIT AUTHORITY</td>\n",
       "      <td>167411.18</td>\n",
       "      <td>0.00</td>\n",
       "      <td>400184.25</td>\n",
       "      <td>0.00</td>\n",
       "      <td>567595.43</td>\n",
       "      <td>567595.43</td>\n",
       "      <td>2011</td>\n",
       "      <td>NaN</td>\n",
       "      <td>San Francisco</td>\n",
       "      <td>NaN</td>\n",
       "    </tr>\n",
       "    <tr>\n",
       "      <th>1</th>\n",
       "      <td>2</td>\n",
       "      <td>GARY JIMENEZ</td>\n",
       "      <td>CAPTAIN III (POLICE DEPARTMENT)</td>\n",
       "      <td>155966.02</td>\n",
       "      <td>245131.88</td>\n",
       "      <td>137811.38</td>\n",
       "      <td>0.00</td>\n",
       "      <td>538909.28</td>\n",
       "      <td>538909.28</td>\n",
       "      <td>2011</td>\n",
       "      <td>NaN</td>\n",
       "      <td>San Francisco</td>\n",
       "      <td>NaN</td>\n",
       "    </tr>\n",
       "    <tr>\n",
       "      <th>2</th>\n",
       "      <td>3</td>\n",
       "      <td>ALBERT PARDINI</td>\n",
       "      <td>CAPTAIN III (POLICE DEPARTMENT)</td>\n",
       "      <td>212739.13</td>\n",
       "      <td>106088.18</td>\n",
       "      <td>16452.6</td>\n",
       "      <td>0.00</td>\n",
       "      <td>335279.91</td>\n",
       "      <td>335279.91</td>\n",
       "      <td>2011</td>\n",
       "      <td>NaN</td>\n",
       "      <td>San Francisco</td>\n",
       "      <td>NaN</td>\n",
       "    </tr>\n",
       "    <tr>\n",
       "      <th>3</th>\n",
       "      <td>4</td>\n",
       "      <td>CHRISTOPHER CHONG</td>\n",
       "      <td>WIRE ROPE CABLE MAINTENANCE MECHANIC</td>\n",
       "      <td>77916.00</td>\n",
       "      <td>56120.71</td>\n",
       "      <td>198306.9</td>\n",
       "      <td>0.00</td>\n",
       "      <td>332343.61</td>\n",
       "      <td>332343.61</td>\n",
       "      <td>2011</td>\n",
       "      <td>NaN</td>\n",
       "      <td>San Francisco</td>\n",
       "      <td>NaN</td>\n",
       "    </tr>\n",
       "    <tr>\n",
       "      <th>4</th>\n",
       "      <td>5</td>\n",
       "      <td>PATRICK GARDNER</td>\n",
       "      <td>DEPUTY CHIEF OF DEPARTMENT,(FIRE DEPARTMENT)</td>\n",
       "      <td>134401.60</td>\n",
       "      <td>9737.00</td>\n",
       "      <td>182234.59</td>\n",
       "      <td>0.00</td>\n",
       "      <td>326373.19</td>\n",
       "      <td>326373.19</td>\n",
       "      <td>2011</td>\n",
       "      <td>NaN</td>\n",
       "      <td>San Francisco</td>\n",
       "      <td>NaN</td>\n",
       "    </tr>\n",
       "    <tr>\n",
       "      <th>...</th>\n",
       "      <td>...</td>\n",
       "      <td>...</td>\n",
       "      <td>...</td>\n",
       "      <td>...</td>\n",
       "      <td>...</td>\n",
       "      <td>...</td>\n",
       "      <td>...</td>\n",
       "      <td>...</td>\n",
       "      <td>...</td>\n",
       "      <td>...</td>\n",
       "      <td>...</td>\n",
       "      <td>...</td>\n",
       "      <td>...</td>\n",
       "    </tr>\n",
       "    <tr>\n",
       "      <th>146731</th>\n",
       "      <td>148614</td>\n",
       "      <td>Nanette M Lloyd</td>\n",
       "      <td>Special Nurse</td>\n",
       "      <td>19.97</td>\n",
       "      <td>0.00</td>\n",
       "      <td>0.00</td>\n",
       "      <td>4.30</td>\n",
       "      <td>19.97</td>\n",
       "      <td>24.27</td>\n",
       "      <td>2014</td>\n",
       "      <td>NaN</td>\n",
       "      <td>San Francisco</td>\n",
       "      <td>PT</td>\n",
       "    </tr>\n",
       "    <tr>\n",
       "      <th>146732</th>\n",
       "      <td>148617</td>\n",
       "      <td>Afakasi O Afakasi</td>\n",
       "      <td>Public Service Trainee</td>\n",
       "      <td>21.48</td>\n",
       "      <td>0.00</td>\n",
       "      <td>0.86</td>\n",
       "      <td>0.22</td>\n",
       "      <td>22.34</td>\n",
       "      <td>22.56</td>\n",
       "      <td>2014</td>\n",
       "      <td>NaN</td>\n",
       "      <td>San Francisco</td>\n",
       "      <td>PT</td>\n",
       "    </tr>\n",
       "    <tr>\n",
       "      <th>146733</th>\n",
       "      <td>148618</td>\n",
       "      <td>Charles F Williams Iii</td>\n",
       "      <td>Pool Lifeguard</td>\n",
       "      <td>17.26</td>\n",
       "      <td>0.00</td>\n",
       "      <td>0.00</td>\n",
       "      <td>4.04</td>\n",
       "      <td>17.26</td>\n",
       "      <td>21.30</td>\n",
       "      <td>2014</td>\n",
       "      <td>NaN</td>\n",
       "      <td>San Francisco</td>\n",
       "      <td>PT</td>\n",
       "    </tr>\n",
       "    <tr>\n",
       "      <th>146734</th>\n",
       "      <td>148620</td>\n",
       "      <td>Ian V Cameron</td>\n",
       "      <td>IS Program Analyst-Assistant</td>\n",
       "      <td>6.04</td>\n",
       "      <td>0.00</td>\n",
       "      <td>10.05</td>\n",
       "      <td>2.30</td>\n",
       "      <td>16.09</td>\n",
       "      <td>18.39</td>\n",
       "      <td>2014</td>\n",
       "      <td>NaN</td>\n",
       "      <td>San Francisco</td>\n",
       "      <td>PT</td>\n",
       "    </tr>\n",
       "    <tr>\n",
       "      <th>146735</th>\n",
       "      <td>148621</td>\n",
       "      <td>India C Sabater</td>\n",
       "      <td>Recreation Leader</td>\n",
       "      <td>15.50</td>\n",
       "      <td>0.00</td>\n",
       "      <td>0.00</td>\n",
       "      <td>0.16</td>\n",
       "      <td>15.50</td>\n",
       "      <td>15.66</td>\n",
       "      <td>2014</td>\n",
       "      <td>NaN</td>\n",
       "      <td>San Francisco</td>\n",
       "      <td>PT</td>\n",
       "    </tr>\n",
       "  </tbody>\n",
       "</table>\n",
       "<p>146736 rows × 13 columns</p>\n",
       "</div>"
      ],
      "text/plain": [
       "            Id            EmployeeName  \\\n",
       "0            1          NATHANIEL FORD   \n",
       "1            2            GARY JIMENEZ   \n",
       "2            3          ALBERT PARDINI   \n",
       "3            4       CHRISTOPHER CHONG   \n",
       "4            5         PATRICK GARDNER   \n",
       "...        ...                     ...   \n",
       "146731  148614         Nanette M Lloyd   \n",
       "146732  148617       Afakasi O Afakasi   \n",
       "146733  148618  Charles F Williams Iii   \n",
       "146734  148620           Ian V Cameron   \n",
       "146735  148621         India C Sabater   \n",
       "\n",
       "                                              JobTitle    BasePay  \\\n",
       "0       GENERAL MANAGER-METROPOLITAN TRANSIT AUTHORITY  167411.18   \n",
       "1                      CAPTAIN III (POLICE DEPARTMENT)  155966.02   \n",
       "2                      CAPTAIN III (POLICE DEPARTMENT)  212739.13   \n",
       "3                 WIRE ROPE CABLE MAINTENANCE MECHANIC   77916.00   \n",
       "4         DEPUTY CHIEF OF DEPARTMENT,(FIRE DEPARTMENT)  134401.60   \n",
       "...                                                ...        ...   \n",
       "146731                                   Special Nurse      19.97   \n",
       "146732                          Public Service Trainee      21.48   \n",
       "146733                                  Pool Lifeguard      17.26   \n",
       "146734                    IS Program Analyst-Assistant       6.04   \n",
       "146735                               Recreation Leader      15.50   \n",
       "\n",
       "        OvertimePay   OtherPay  Benefits   TotalPay  TotalPayBenefits  Year  \\\n",
       "0              0.00  400184.25      0.00  567595.43         567595.43  2011   \n",
       "1         245131.88  137811.38      0.00  538909.28         538909.28  2011   \n",
       "2         106088.18    16452.6      0.00  335279.91         335279.91  2011   \n",
       "3          56120.71   198306.9      0.00  332343.61         332343.61  2011   \n",
       "4           9737.00  182234.59      0.00  326373.19         326373.19  2011   \n",
       "...             ...        ...       ...        ...               ...   ...   \n",
       "146731         0.00       0.00      4.30      19.97             24.27  2014   \n",
       "146732         0.00       0.86      0.22      22.34             22.56  2014   \n",
       "146733         0.00       0.00      4.04      17.26             21.30  2014   \n",
       "146734         0.00      10.05      2.30      16.09             18.39  2014   \n",
       "146735         0.00       0.00      0.16      15.50             15.66  2014   \n",
       "\n",
       "        Notes         Agency Status  \n",
       "0         NaN  San Francisco    NaN  \n",
       "1         NaN  San Francisco    NaN  \n",
       "2         NaN  San Francisco    NaN  \n",
       "3         NaN  San Francisco    NaN  \n",
       "4         NaN  San Francisco    NaN  \n",
       "...       ...            ...    ...  \n",
       "146731    NaN  San Francisco     PT  \n",
       "146732    NaN  San Francisco     PT  \n",
       "146733    NaN  San Francisco     PT  \n",
       "146734    NaN  San Francisco     PT  \n",
       "146735    NaN  San Francisco     PT  \n",
       "\n",
       "[146736 rows x 13 columns]"
      ]
     },
     "execution_count": 17,
     "metadata": {},
     "output_type": "execute_result"
    }
   ],
   "source": [
    "df_new"
   ]
  },
  {
   "cell_type": "markdown",
   "id": "c49ee769",
   "metadata": {},
   "source": [
    "<h3>Working with Row `TotalPay and TotalPayBenefits` "
   ]
  },
  {
   "cell_type": "code",
   "execution_count": 18,
   "id": "14943fd1",
   "metadata": {},
   "outputs": [
    {
     "data": {
      "text/plain": [
       "True    146736\n",
       "Name: TotalPay, dtype: int64"
      ]
     },
     "execution_count": 18,
     "metadata": {},
     "output_type": "execute_result"
    }
   ],
   "source": [
    "df_new['TotalPay'].notna().value_counts()"
   ]
  },
  {
   "cell_type": "markdown",
   "id": "430b9303",
   "metadata": {},
   "source": [
    "Wow! How amazing it is to see all columns of correct type! But still we have to check the dependency, it seems that `TotalPay` column is equal to the sum of 3 other columns. 2 columns among them are already cleaned, and one is remaining - `OtherPay`. The same applies to the column named `TotalPayBenefits`, but it has one additional term, a column named `Benefits`."
   ]
  },
  {
   "cell_type": "code",
   "execution_count": 19,
   "id": "0b952eb8",
   "metadata": {},
   "outputs": [
    {
     "data": {
      "text/plain": [
       "0         400184.25\n",
       "1         137811.38\n",
       "2          16452.60\n",
       "3         198306.90\n",
       "4         182234.59\n",
       "            ...    \n",
       "146731         0.00\n",
       "146732         0.86\n",
       "146733         0.00\n",
       "146734        10.05\n",
       "146735         0.00\n",
       "Name: OtherPay, Length: 146736, dtype: float64"
      ]
     },
     "execution_count": 19,
     "metadata": {},
     "output_type": "execute_result"
    }
   ],
   "source": [
    "df_new['OtherPay'] = df_new['OtherPay'].astype(float)\n",
    "df_new['OtherPay']"
   ]
  },
  {
   "cell_type": "markdown",
   "id": "e03879c3",
   "metadata": {},
   "source": [
    "Zero values are ok here, as it is Other Pay. Now, it is time to check column for negative values."
   ]
  },
  {
   "cell_type": "code",
   "execution_count": 20,
   "id": "2dc77514",
   "metadata": {},
   "outputs": [
    {
     "data": {
      "text/html": [
       "<div>\n",
       "<style scoped>\n",
       "    .dataframe tbody tr th:only-of-type {\n",
       "        vertical-align: middle;\n",
       "    }\n",
       "\n",
       "    .dataframe tbody tr th {\n",
       "        vertical-align: top;\n",
       "    }\n",
       "\n",
       "    .dataframe thead th {\n",
       "        text-align: right;\n",
       "    }\n",
       "</style>\n",
       "<table border=\"1\" class=\"dataframe\">\n",
       "  <thead>\n",
       "    <tr style=\"text-align: right;\">\n",
       "      <th></th>\n",
       "      <th>Id</th>\n",
       "      <th>EmployeeName</th>\n",
       "      <th>JobTitle</th>\n",
       "      <th>BasePay</th>\n",
       "      <th>OvertimePay</th>\n",
       "      <th>OtherPay</th>\n",
       "      <th>Benefits</th>\n",
       "      <th>TotalPay</th>\n",
       "      <th>TotalPayBenefits</th>\n",
       "      <th>Year</th>\n",
       "      <th>Notes</th>\n",
       "      <th>Agency</th>\n",
       "      <th>Status</th>\n",
       "    </tr>\n",
       "  </thead>\n",
       "  <tbody>\n",
       "    <tr>\n",
       "      <th>84083</th>\n",
       "      <td>84970</td>\n",
       "      <td>Pei  Meng</td>\n",
       "      <td>IS Business Analyst-Principal</td>\n",
       "      <td>101274.51</td>\n",
       "      <td>0.00</td>\n",
       "      <td>-7058.59</td>\n",
       "      <td>34583.40</td>\n",
       "      <td>94215.92</td>\n",
       "      <td>128799.32</td>\n",
       "      <td>2013</td>\n",
       "      <td>NaN</td>\n",
       "      <td>San Francisco</td>\n",
       "      <td>NaN</td>\n",
       "    </tr>\n",
       "    <tr>\n",
       "      <th>92309</th>\n",
       "      <td>93201</td>\n",
       "      <td>Jose A Lemus</td>\n",
       "      <td>Custodial Supervisor</td>\n",
       "      <td>66744.00</td>\n",
       "      <td>2234.40</td>\n",
       "      <td>-9.60</td>\n",
       "      <td>26889.04</td>\n",
       "      <td>68968.80</td>\n",
       "      <td>95857.84</td>\n",
       "      <td>2013</td>\n",
       "      <td>NaN</td>\n",
       "      <td>San Francisco</td>\n",
       "      <td>NaN</td>\n",
       "    </tr>\n",
       "    <tr>\n",
       "      <th>95277</th>\n",
       "      <td>96169</td>\n",
       "      <td>John G Alexander</td>\n",
       "      <td>Gardener</td>\n",
       "      <td>59733.32</td>\n",
       "      <td>46.76</td>\n",
       "      <td>-46.76</td>\n",
       "      <td>25863.91</td>\n",
       "      <td>59733.32</td>\n",
       "      <td>85597.23</td>\n",
       "      <td>2013</td>\n",
       "      <td>NaN</td>\n",
       "      <td>San Francisco</td>\n",
       "      <td>NaN</td>\n",
       "    </tr>\n",
       "    <tr>\n",
       "      <th>105856</th>\n",
       "      <td>107185</td>\n",
       "      <td>Amelie E Bullard</td>\n",
       "      <td>Special Nurse</td>\n",
       "      <td>6932.50</td>\n",
       "      <td>0.00</td>\n",
       "      <td>-50.19</td>\n",
       "      <td>418.03</td>\n",
       "      <td>6882.31</td>\n",
       "      <td>7300.34</td>\n",
       "      <td>2013</td>\n",
       "      <td>NaN</td>\n",
       "      <td>San Francisco</td>\n",
       "      <td>NaN</td>\n",
       "    </tr>\n",
       "  </tbody>\n",
       "</table>\n",
       "</div>"
      ],
      "text/plain": [
       "            Id      EmployeeName                       JobTitle    BasePay  \\\n",
       "84083    84970         Pei  Meng  IS Business Analyst-Principal  101274.51   \n",
       "92309    93201      Jose A Lemus           Custodial Supervisor   66744.00   \n",
       "95277    96169  John G Alexander                       Gardener   59733.32   \n",
       "105856  107185  Amelie E Bullard                  Special Nurse    6932.50   \n",
       "\n",
       "        OvertimePay  OtherPay  Benefits  TotalPay  TotalPayBenefits  Year  \\\n",
       "84083          0.00  -7058.59  34583.40  94215.92         128799.32  2013   \n",
       "92309       2234.40     -9.60  26889.04  68968.80          95857.84  2013   \n",
       "95277         46.76    -46.76  25863.91  59733.32          85597.23  2013   \n",
       "105856         0.00    -50.19    418.03   6882.31           7300.34  2013   \n",
       "\n",
       "        Notes         Agency Status  \n",
       "84083     NaN  San Francisco    NaN  \n",
       "92309     NaN  San Francisco    NaN  \n",
       "95277     NaN  San Francisco    NaN  \n",
       "105856    NaN  San Francisco    NaN  "
      ]
     },
     "execution_count": 20,
     "metadata": {},
     "output_type": "execute_result"
    }
   ],
   "source": [
    "df_new[df_new['OtherPay'] < 0]"
   ]
  },
  {
   "cell_type": "markdown",
   "id": "7d5ceefd",
   "metadata": {},
   "source": [
    "After thinking for the while, the assumption about the employee taking debt of any form was made. Therefore, negative values will not be removed. <br><br>\n",
    "Now, let us turn our attention to columns `TotalPay` and `TotalPayBenefits`, as it was mentioned it is just the summation of 3 columns and we are about to check it:"
   ]
  },
  {
   "cell_type": "code",
   "execution_count": 21,
   "id": "e1674864",
   "metadata": {
    "scrolled": true
   },
   "outputs": [
    {
     "data": {
      "text/plain": [
       "True    146736\n",
       "dtype: int64"
      ]
     },
     "execution_count": 21,
     "metadata": {},
     "output_type": "execute_result"
    }
   ],
   "source": [
    "totalPay = ((round((df_new['BasePay'] + df_new['OvertimePay'] + df_new['OtherPay']), 2)) == df_new['TotalPay']).value_counts()\n",
    "totalPay"
   ]
  },
  {
   "cell_type": "code",
   "execution_count": 22,
   "id": "79b866f1",
   "metadata": {},
   "outputs": [
    {
     "data": {
      "text/plain": [
       "True    146736\n",
       "dtype: int64"
      ]
     },
     "execution_count": 22,
     "metadata": {},
     "output_type": "execute_result"
    }
   ],
   "source": [
    "totalPayBenefits = ((round((df_new['BasePay'] + df_new['OvertimePay'] + df_new['OtherPay'] + df_new['Benefits']), 2)) == df_new['TotalPayBenefits']).value_counts()\n",
    "totalPayBenefits"
   ]
  },
  {
   "cell_type": "markdown",
   "id": "e1c71e9d",
   "metadata": {},
   "source": [
    "Yeeey! Great! Now, all the columns are safe, or at least cleaned as tightly as an author was able to do it at the moment of cleaning, hehehe"
   ]
  },
  {
   "cell_type": "code",
   "execution_count": 23,
   "id": "620d1e03",
   "metadata": {},
   "outputs": [
    {
     "name": "stdout",
     "output_type": "stream",
     "text": [
      "<class 'pandas.core.frame.DataFrame'>\n",
      "RangeIndex: 146736 entries, 0 to 146735\n",
      "Data columns (total 13 columns):\n",
      " #   Column            Non-Null Count   Dtype  \n",
      "---  ------            --------------   -----  \n",
      " 0   Id                146736 non-null  int64  \n",
      " 1   EmployeeName      146736 non-null  object \n",
      " 2   JobTitle          146736 non-null  object \n",
      " 3   BasePay           146736 non-null  float64\n",
      " 4   OvertimePay       146736 non-null  float64\n",
      " 5   OtherPay          146736 non-null  float64\n",
      " 6   Benefits          146736 non-null  float64\n",
      " 7   TotalPay          146736 non-null  float64\n",
      " 8   TotalPayBenefits  146736 non-null  float64\n",
      " 9   Year              146736 non-null  int64  \n",
      " 10  Notes             0 non-null       float64\n",
      " 11  Agency            146736 non-null  object \n",
      " 12  Status            37693 non-null   object \n",
      "dtypes: float64(7), int64(2), object(4)\n",
      "memory usage: 14.6+ MB\n"
     ]
    }
   ],
   "source": [
    "df_new.info()"
   ]
  },
  {
   "cell_type": "markdown",
   "id": "9573dac3",
   "metadata": {},
   "source": [
    "<h2> 1. Calculating standard deviation and variance without using methods std() and *variance() </h2>\n",
    "*the method variance() does not exist, at least in pandas library, but var() exists"
   ]
  },
  {
   "cell_type": "markdown",
   "id": "e1f0aa0c",
   "metadata": {},
   "source": [
    "<h3> Std and Var of column BasePay"
   ]
  },
  {
   "cell_type": "code",
   "execution_count": 24,
   "id": "6671a0a9",
   "metadata": {},
   "outputs": [
    {
     "data": {
      "text/plain": [
       "66917.13032105278"
      ]
     },
     "execution_count": 24,
     "metadata": {},
     "output_type": "execute_result"
    }
   ],
   "source": [
    "mean_basepay = df_new['BasePay'].sum() / df_new['BasePay'].shape[0]\n",
    "mean_basepay"
   ]
  },
  {
   "cell_type": "code",
   "execution_count": 25,
   "id": "ccf1596a",
   "metadata": {},
   "outputs": [
    {
     "data": {
      "text/plain": [
       "0         100494.049679\n",
       "1          89048.889679\n",
       "2         145821.999679\n",
       "3          10998.869679\n",
       "4          67484.469679\n",
       "              ...      \n",
       "146731    -66897.160321\n",
       "146732    -66895.650321\n",
       "146733    -66899.870321\n",
       "146734    -66911.090321\n",
       "146735    -66901.630321\n",
       "Name: BasePay, Length: 146736, dtype: float64"
      ]
     },
     "execution_count": 25,
     "metadata": {},
     "output_type": "execute_result"
    }
   ],
   "source": [
    "deviation_basepay = df_new['BasePay'] - mean_basepay\n",
    "deviation_basepay "
   ]
  },
  {
   "cell_type": "code",
   "execution_count": 26,
   "id": "b833ddc5",
   "metadata": {},
   "outputs": [
    {
     "data": {
      "text/plain": [
       "264935072807928.8"
      ]
     },
     "execution_count": 26,
     "metadata": {},
     "output_type": "execute_result"
    }
   ],
   "source": [
    "deviation_square_sum_basepay = (deviation_basepay ** 2).sum()\n",
    "deviation_square_sum_basepay"
   ]
  },
  {
   "cell_type": "code",
   "execution_count": 27,
   "id": "ba078450",
   "metadata": {},
   "outputs": [
    {
     "data": {
      "text/plain": [
       "1805534281.5819595"
      ]
     },
     "execution_count": 27,
     "metadata": {},
     "output_type": "execute_result"
    }
   ],
   "source": [
    "variance_basepay = deviation_square_sum_basepay / (df_new['BasePay'].shape[0] - 1)\n",
    "variance_basepay"
   ]
  },
  {
   "cell_type": "code",
   "execution_count": 28,
   "id": "7153bb5f",
   "metadata": {},
   "outputs": [
    {
     "data": {
      "text/plain": [
       "42491.57894903365"
      ]
     },
     "execution_count": 28,
     "metadata": {},
     "output_type": "execute_result"
    }
   ],
   "source": [
    "standard_deviation_basepay = (variance_basepay ** (1/2)) \n",
    "standard_deviation_basepay"
   ]
  },
  {
   "cell_type": "markdown",
   "id": "81c826c1",
   "metadata": {},
   "source": [
    "<h3> Std and Var of column OvertimePay"
   ]
  },
  {
   "cell_type": "code",
   "execution_count": 29,
   "id": "380a8f39",
   "metadata": {},
   "outputs": [
    {
     "data": {
      "text/plain": [
       "5130.611404972195"
      ]
     },
     "execution_count": 29,
     "metadata": {},
     "output_type": "execute_result"
    }
   ],
   "source": [
    "mean_overtimepay = df_new['OvertimePay'].sum() / df_new['OvertimePay'].shape[0]\n",
    "mean_overtimepay"
   ]
  },
  {
   "cell_type": "code",
   "execution_count": 30,
   "id": "cf55fb77",
   "metadata": {},
   "outputs": [
    {
     "data": {
      "text/plain": [
       "0          -5130.611405\n",
       "1         240001.268595\n",
       "2         100957.568595\n",
       "3          50990.098595\n",
       "4           4606.388595\n",
       "              ...      \n",
       "146731     -5130.611405\n",
       "146732     -5130.611405\n",
       "146733     -5130.611405\n",
       "146734     -5130.611405\n",
       "146735     -5130.611405\n",
       "Name: OvertimePay, Length: 146736, dtype: float64"
      ]
     },
     "execution_count": 30,
     "metadata": {},
     "output_type": "execute_result"
    }
   ],
   "source": [
    "deviation_overtimepay = df_new['OvertimePay'] - mean_overtimepay\n",
    "deviation_overtimepay"
   ]
  },
  {
   "cell_type": "code",
   "execution_count": 31,
   "id": "f21d845b",
   "metadata": {},
   "outputs": [
    {
     "data": {
      "text/plain": [
       "19451320903454.785"
      ]
     },
     "execution_count": 31,
     "metadata": {},
     "output_type": "execute_result"
    }
   ],
   "source": [
    "deviation_square_sum_overtimepay = (deviation_overtimepay ** 2).sum()\n",
    "deviation_square_sum_overtimepay"
   ]
  },
  {
   "cell_type": "code",
   "execution_count": 32,
   "id": "5c32987f",
   "metadata": {},
   "outputs": [
    {
     "data": {
      "text/plain": [
       "132560881.20390354"
      ]
     },
     "execution_count": 32,
     "metadata": {},
     "output_type": "execute_result"
    }
   ],
   "source": [
    "variance_overtimepay = deviation_square_sum_overtimepay / (df_new['OvertimePay'].shape[0] - 1)\n",
    "variance_overtimepay"
   ]
  },
  {
   "cell_type": "code",
   "execution_count": 33,
   "id": "bbb11c4b",
   "metadata": {},
   "outputs": [
    {
     "data": {
      "text/plain": [
       "11513.508640023836"
      ]
     },
     "execution_count": 33,
     "metadata": {},
     "output_type": "execute_result"
    }
   ],
   "source": [
    "standard_deviation_overtimepay = (variance_overtimepay ** (1/2)) \n",
    "standard_deviation_overtimepay"
   ]
  },
  {
   "cell_type": "markdown",
   "id": "1a4bc936",
   "metadata": {},
   "source": [
    "<h3> Std and Var of column OtherPay"
   ]
  },
  {
   "cell_type": "code",
   "execution_count": 34,
   "id": "545c657c",
   "metadata": {},
   "outputs": [
    {
     "data": {
      "text/plain": [
       "3638.4051323465264"
      ]
     },
     "execution_count": 34,
     "metadata": {},
     "output_type": "execute_result"
    }
   ],
   "source": [
    "mean_otherpay = df_new['OtherPay'].sum() / df_new['OtherPay'].shape[0]\n",
    "mean_otherpay"
   ]
  },
  {
   "cell_type": "code",
   "execution_count": 35,
   "id": "db245349",
   "metadata": {},
   "outputs": [
    {
     "data": {
      "text/plain": [
       "0         396545.844868\n",
       "1         134172.974868\n",
       "2          12814.194868\n",
       "3         194668.494868\n",
       "4         178596.184868\n",
       "              ...      \n",
       "146731     -3638.405132\n",
       "146732     -3637.545132\n",
       "146733     -3638.405132\n",
       "146734     -3628.355132\n",
       "146735     -3638.405132\n",
       "Name: OtherPay, Length: 146736, dtype: float64"
      ]
     },
     "execution_count": 35,
     "metadata": {},
     "output_type": "execute_result"
    }
   ],
   "source": [
    "deviation_otherpay = df_new['OtherPay'] - mean_otherpay\n",
    "deviation_otherpay"
   ]
  },
  {
   "cell_type": "code",
   "execution_count": 36,
   "id": "287a999d",
   "metadata": {},
   "outputs": [
    {
     "data": {
      "text/plain": [
       "9307103122274.793"
      ]
     },
     "execution_count": 36,
     "metadata": {},
     "output_type": "execute_result"
    }
   ],
   "source": [
    "deviation_square_sum_otherpay = (deviation_otherpay ** 2).sum()\n",
    "deviation_square_sum_otherpay"
   ]
  },
  {
   "cell_type": "code",
   "execution_count": 37,
   "id": "a2177a24",
   "metadata": {},
   "outputs": [
    {
     "data": {
      "text/plain": [
       "63427969.620573096"
      ]
     },
     "execution_count": 37,
     "metadata": {},
     "output_type": "execute_result"
    }
   ],
   "source": [
    "variance_otherpay = deviation_square_sum_otherpay / (df_new['OtherPay'].shape[0] - 1)\n",
    "variance_otherpay"
   ]
  },
  {
   "cell_type": "code",
   "execution_count": 38,
   "id": "c3b697e8",
   "metadata": {},
   "outputs": [
    {
     "data": {
      "text/plain": [
       "7964.167854871788"
      ]
     },
     "execution_count": 38,
     "metadata": {},
     "output_type": "execute_result"
    }
   ],
   "source": [
    "standard_deviation_otherpay = (variance_otherpay ** (1/2)) \n",
    "standard_deviation_otherpay"
   ]
  },
  {
   "cell_type": "markdown",
   "id": "c78ee545",
   "metadata": {},
   "source": [
    "<h3> Std and Var of column Benefits"
   ]
  },
  {
   "cell_type": "code",
   "execution_count": 39,
   "id": "4f5231e5",
   "metadata": {},
   "outputs": [
    {
     "data": {
      "text/plain": [
       "19142.60112405954"
      ]
     },
     "execution_count": 39,
     "metadata": {},
     "output_type": "execute_result"
    }
   ],
   "source": [
    "mean_benefits = df_new['Benefits'].sum() / df_new['Benefits'].shape[0]\n",
    "mean_benefits"
   ]
  },
  {
   "cell_type": "code",
   "execution_count": 40,
   "id": "f9dc1d4c",
   "metadata": {},
   "outputs": [
    {
     "data": {
      "text/plain": [
       "0        -19142.601124\n",
       "1        -19142.601124\n",
       "2        -19142.601124\n",
       "3        -19142.601124\n",
       "4        -19142.601124\n",
       "              ...     \n",
       "146731   -19138.301124\n",
       "146732   -19142.381124\n",
       "146733   -19138.561124\n",
       "146734   -19140.301124\n",
       "146735   -19142.441124\n",
       "Name: Benefits, Length: 146736, dtype: float64"
      ]
     },
     "execution_count": 40,
     "metadata": {},
     "output_type": "execute_result"
    }
   ],
   "source": [
    "deviation_benefits = df_new['Benefits'] - mean_benefits\n",
    "deviation_benefits "
   ]
  },
  {
   "cell_type": "code",
   "execution_count": 41,
   "id": "5dc6d944",
   "metadata": {},
   "outputs": [
    {
     "data": {
      "text/plain": [
       "43236415743759.93"
      ]
     },
     "execution_count": 41,
     "metadata": {},
     "output_type": "execute_result"
    }
   ],
   "source": [
    "deviation_square_sum_benefits = (deviation_benefits ** 2).sum()\n",
    "deviation_square_sum_benefits"
   ]
  },
  {
   "cell_type": "code",
   "execution_count": 42,
   "id": "5908bc2b",
   "metadata": {},
   "outputs": [
    {
     "data": {
      "text/plain": [
       "294656460.583773"
      ]
     },
     "execution_count": 42,
     "metadata": {},
     "output_type": "execute_result"
    }
   ],
   "source": [
    "variance_benefits = deviation_square_sum_benefits / (df_new['Benefits'].shape[0] - 1)\n",
    "variance_benefits"
   ]
  },
  {
   "cell_type": "code",
   "execution_count": 43,
   "id": "ce53bd66",
   "metadata": {
    "scrolled": true
   },
   "outputs": [
    {
     "data": {
      "text/plain": [
       "17165.560304976152"
      ]
     },
     "execution_count": 43,
     "metadata": {},
     "output_type": "execute_result"
    }
   ],
   "source": [
    "standard_deviation_benefits = (variance_benefits ** (1/2)) \n",
    "standard_deviation_benefits"
   ]
  },
  {
   "cell_type": "markdown",
   "id": "64e62318",
   "metadata": {},
   "source": [
    "<h3> Std and Var of column TotalPay"
   ]
  },
  {
   "cell_type": "code",
   "execution_count": 44,
   "id": "db06c5f6",
   "metadata": {},
   "outputs": [
    {
     "data": {
      "text/plain": [
       "75686.14685837152"
      ]
     },
     "execution_count": 44,
     "metadata": {},
     "output_type": "execute_result"
    }
   ],
   "source": [
    "mean_totalpay = df_new['TotalPay'].sum() / df_new['TotalPay'].shape[0]\n",
    "mean_totalpay"
   ]
  },
  {
   "cell_type": "code",
   "execution_count": 45,
   "id": "b6282626",
   "metadata": {},
   "outputs": [
    {
     "data": {
      "text/plain": [
       "0         491909.283142\n",
       "1         463223.133142\n",
       "2         259593.763142\n",
       "3         256657.463142\n",
       "4         250687.043142\n",
       "              ...      \n",
       "146731    -75666.176858\n",
       "146732    -75663.806858\n",
       "146733    -75668.886858\n",
       "146734    -75670.056858\n",
       "146735    -75670.646858\n",
       "Name: TotalPay, Length: 146736, dtype: float64"
      ]
     },
     "execution_count": 45,
     "metadata": {},
     "output_type": "execute_result"
    }
   ],
   "source": [
    "deviation_totalpay = df_new['TotalPay'] - mean_totalpay\n",
    "deviation_totalpay"
   ]
  },
  {
   "cell_type": "code",
   "execution_count": 46,
   "id": "6475712c",
   "metadata": {},
   "outputs": [
    {
     "data": {
      "text/plain": [
       "369409946717294.75"
      ]
     },
     "execution_count": 46,
     "metadata": {},
     "output_type": "execute_result"
    }
   ],
   "source": [
    "deviation_square_sum_totalpay = (deviation_totalpay ** 2).sum()\n",
    "deviation_square_sum_totalpay"
   ]
  },
  {
   "cell_type": "code",
   "execution_count": 47,
   "id": "34bf5fca",
   "metadata": {},
   "outputs": [
    {
     "data": {
      "text/plain": [
       "2517531241.471324"
      ]
     },
     "execution_count": 47,
     "metadata": {},
     "output_type": "execute_result"
    }
   ],
   "source": [
    "variance_totalpay = deviation_square_sum_totalpay / (df_new['TotalPay'].shape[0] - 1)\n",
    "variance_totalpay"
   ]
  },
  {
   "cell_type": "code",
   "execution_count": 48,
   "id": "4a258eb4",
   "metadata": {},
   "outputs": [
    {
     "data": {
      "text/plain": [
       "50175.00614321162"
      ]
     },
     "execution_count": 48,
     "metadata": {},
     "output_type": "execute_result"
    }
   ],
   "source": [
    "standard_deviation_totalpay = (variance_totalpay ** (1/2)) \n",
    "standard_deviation_totalpay"
   ]
  },
  {
   "cell_type": "markdown",
   "id": "8acdbf53",
   "metadata": {},
   "source": [
    "<h3> Std and Var of column TotalPayBenefits"
   ]
  },
  {
   "cell_type": "code",
   "execution_count": 49,
   "id": "f3ba739b",
   "metadata": {},
   "outputs": [
    {
     "data": {
      "text/plain": [
       "94828.74798243103"
      ]
     },
     "execution_count": 49,
     "metadata": {},
     "output_type": "execute_result"
    }
   ],
   "source": [
    "mean_totalpaybenefits = df_new['TotalPayBenefits'].sum() / df_new['TotalPayBenefits'].shape[0]\n",
    "mean_totalpaybenefits"
   ]
  },
  {
   "cell_type": "code",
   "execution_count": 50,
   "id": "1a4a44db",
   "metadata": {},
   "outputs": [
    {
     "data": {
      "text/plain": [
       "0         472766.682018\n",
       "1         444080.532018\n",
       "2         240451.162018\n",
       "3         237514.862018\n",
       "4         231544.442018\n",
       "              ...      \n",
       "146731    -94804.477982\n",
       "146732    -94806.187982\n",
       "146733    -94807.447982\n",
       "146734    -94810.357982\n",
       "146735    -94813.087982\n",
       "Name: TotalPayBenefits, Length: 146736, dtype: float64"
      ]
     },
     "execution_count": 50,
     "metadata": {},
     "output_type": "execute_result"
    }
   ],
   "source": [
    "deviation_totalpaybenefits = df_new['TotalPayBenefits'] - mean_totalpaybenefits\n",
    "deviation_totalpaybenefits"
   ]
  },
  {
   "cell_type": "code",
   "execution_count": 51,
   "id": "2775fecd",
   "metadata": {},
   "outputs": [
    {
     "data": {
      "text/plain": [
       "571075712611135.8"
      ]
     },
     "execution_count": 51,
     "metadata": {},
     "output_type": "execute_result"
    }
   ],
   "source": [
    "deviation_square_sum_totalpaybenefits = (deviation_totalpaybenefits ** 2).sum()\n",
    "deviation_square_sum_totalpaybenefits"
   ]
  },
  {
   "cell_type": "code",
   "execution_count": 52,
   "id": "c79f3daa",
   "metadata": {},
   "outputs": [
    {
     "data": {
      "text/plain": [
       "3891884776.032547"
      ]
     },
     "execution_count": 52,
     "metadata": {},
     "output_type": "execute_result"
    }
   ],
   "source": [
    "variance_totalpaybenefits = deviation_square_sum_totalpaybenefits / (df_new['TotalPayBenefits'].shape[0] - 1)\n",
    "variance_totalpaybenefits"
   ]
  },
  {
   "cell_type": "code",
   "execution_count": 53,
   "id": "1d66f221",
   "metadata": {},
   "outputs": [
    {
     "data": {
      "text/plain": [
       "62384.97235739187"
      ]
     },
     "execution_count": 53,
     "metadata": {},
     "output_type": "execute_result"
    }
   ],
   "source": [
    "standard_deviation_totalpaybenefits = (variance_totalpaybenefits ** (1/2)) \n",
    "standard_deviation_totalpaybenefits"
   ]
  },
  {
   "cell_type": "markdown",
   "id": "a0e4acc4",
   "metadata": {},
   "source": [
    "<h2> 2. Calculating standard deviation with `std()` and `var()` methods"
   ]
  },
  {
   "cell_type": "markdown",
   "id": "b6025346",
   "metadata": {},
   "source": [
    "For BasePay:"
   ]
  },
  {
   "cell_type": "code",
   "execution_count": 54,
   "id": "a669c02b",
   "metadata": {},
   "outputs": [
    {
     "data": {
      "text/plain": [
       "1805534281.5819597"
      ]
     },
     "execution_count": 54,
     "metadata": {},
     "output_type": "execute_result"
    }
   ],
   "source": [
    "df_new['BasePay'].var()"
   ]
  },
  {
   "cell_type": "code",
   "execution_count": 55,
   "id": "a1407c31",
   "metadata": {},
   "outputs": [
    {
     "data": {
      "text/plain": [
       "42491.578949033654"
      ]
     },
     "execution_count": 55,
     "metadata": {},
     "output_type": "execute_result"
    }
   ],
   "source": [
    "df_new['BasePay'].std()"
   ]
  },
  {
   "cell_type": "markdown",
   "id": "6af0797d",
   "metadata": {},
   "source": [
    "For OvertimePay:"
   ]
  },
  {
   "cell_type": "code",
   "execution_count": 56,
   "id": "773bb0aa",
   "metadata": {},
   "outputs": [
    {
     "data": {
      "text/plain": [
       "132560881.20405667"
      ]
     },
     "execution_count": 56,
     "metadata": {},
     "output_type": "execute_result"
    }
   ],
   "source": [
    "df_new['OvertimePay'].var()"
   ]
  },
  {
   "cell_type": "code",
   "execution_count": 57,
   "id": "242a472f",
   "metadata": {},
   "outputs": [
    {
     "data": {
      "text/plain": [
       "11513.508640030486"
      ]
     },
     "execution_count": 57,
     "metadata": {},
     "output_type": "execute_result"
    }
   ],
   "source": [
    "df_new['OvertimePay'].std()"
   ]
  },
  {
   "cell_type": "markdown",
   "id": "bcb02780",
   "metadata": {},
   "source": [
    "For OtherPay:"
   ]
  },
  {
   "cell_type": "code",
   "execution_count": 58,
   "id": "4b2cbecd",
   "metadata": {},
   "outputs": [
    {
     "data": {
      "text/plain": [
       "63427969.62054264"
      ]
     },
     "execution_count": 58,
     "metadata": {},
     "output_type": "execute_result"
    }
   ],
   "source": [
    "df_new['OtherPay'].var()"
   ]
  },
  {
   "cell_type": "code",
   "execution_count": 59,
   "id": "c1f25f46",
   "metadata": {},
   "outputs": [
    {
     "data": {
      "text/plain": [
       "7964.167854869876"
      ]
     },
     "execution_count": 59,
     "metadata": {},
     "output_type": "execute_result"
    }
   ],
   "source": [
    "df_new['OtherPay'].std()"
   ]
  },
  {
   "cell_type": "markdown",
   "id": "85537c47",
   "metadata": {},
   "source": [
    "For Benefits:"
   ]
  },
  {
   "cell_type": "code",
   "execution_count": 60,
   "id": "cd1a9376",
   "metadata": {},
   "outputs": [
    {
     "data": {
      "text/plain": [
       "294656460.583793"
      ]
     },
     "execution_count": 60,
     "metadata": {},
     "output_type": "execute_result"
    }
   ],
   "source": [
    "df_new['Benefits'].var()"
   ]
  },
  {
   "cell_type": "code",
   "execution_count": 61,
   "id": "dfa188b6",
   "metadata": {},
   "outputs": [
    {
     "data": {
      "text/plain": [
       "17165.560304976734"
      ]
     },
     "execution_count": 61,
     "metadata": {},
     "output_type": "execute_result"
    }
   ],
   "source": [
    "df_new['Benefits'].std()"
   ]
  },
  {
   "cell_type": "markdown",
   "id": "2daf2298",
   "metadata": {},
   "source": [
    "For TotalPay:"
   ]
  },
  {
   "cell_type": "code",
   "execution_count": 62,
   "id": "7d2f0131",
   "metadata": {},
   "outputs": [
    {
     "data": {
      "text/plain": [
       "2517531241.4712934"
      ]
     },
     "execution_count": 62,
     "metadata": {},
     "output_type": "execute_result"
    }
   ],
   "source": [
    "df_new['TotalPay'].var()"
   ]
  },
  {
   "cell_type": "code",
   "execution_count": 63,
   "id": "99796471",
   "metadata": {},
   "outputs": [
    {
     "data": {
      "text/plain": [
       "50175.006143211314"
      ]
     },
     "execution_count": 63,
     "metadata": {},
     "output_type": "execute_result"
    }
   ],
   "source": [
    "df_new['TotalPay'].std()"
   ]
  },
  {
   "cell_type": "markdown",
   "id": "226b511d",
   "metadata": {},
   "source": [
    "For TotalPayBenefits:"
   ]
  },
  {
   "cell_type": "code",
   "execution_count": 64,
   "id": "42bf7412",
   "metadata": {},
   "outputs": [
    {
     "data": {
      "text/plain": [
       "3891884776.0326114"
      ]
     },
     "execution_count": 64,
     "metadata": {},
     "output_type": "execute_result"
    }
   ],
   "source": [
    "df_new['TotalPayBenefits'].var()"
   ]
  },
  {
   "cell_type": "code",
   "execution_count": 65,
   "id": "8454bf0d",
   "metadata": {},
   "outputs": [
    {
     "data": {
      "text/plain": [
       "62384.97235739238"
      ]
     },
     "execution_count": 65,
     "metadata": {},
     "output_type": "execute_result"
    }
   ],
   "source": [
    "df_new['TotalPayBenefits'].std()"
   ]
  },
  {
   "cell_type": "markdown",
   "id": "f31fb496",
   "metadata": {},
   "source": [
    "We can conclude from first and second tasks that standard deviation and variance were counted correctly. Note that the sample standard deviation formula used with `n-1` degrees of freedom. Therefore, argument `ddof` was not specified."
   ]
  },
  {
   "cell_type": "markdown",
   "id": "21a88676",
   "metadata": {},
   "source": [
    "<h2> 3. Calculating coeficient of covarience and range"
   ]
  },
  {
   "cell_type": "markdown",
   "id": "b4490a96",
   "metadata": {},
   "source": [
    "covarience = ((X-X.mean())*(Y-Y.mean())).sum() / count(X or Y) - 1\n",
    "\n",
    "coef of covarience = covarience / X.std() * Y.std()"
   ]
  },
  {
   "cell_type": "markdown",
   "id": "bfbaf981",
   "metadata": {},
   "source": [
    "<h3> The coeficient of covariance for all numeric columns (except Year) and displaying it with the help of heatmap"
   ]
  },
  {
   "cell_type": "code",
   "execution_count": 66,
   "id": "bb654dec",
   "metadata": {},
   "outputs": [
    {
     "data": {
      "image/png": "[encoded data removed]",
      "text/plain": [
       "<Figure size 432x288 with 2 Axes>"
      ]
     },
     "metadata": {
      "needs_background": "light"
     },
     "output_type": "display_data"
    }
   ],
   "source": [
    "# Select the columns of interest\n",
    "columns_of_interest = ['BasePay', 'OvertimePay', 'OtherPay', 'Benefits', 'TotalPay', 'TotalPayBenefits']\n",
    "\n",
    "# Create a correlation matrix of the selected columns\n",
    "correlation_matrix = df_new[columns_of_interest].corr()\n",
    "\n",
    "# Create a heatmap of the correlation matrix\n",
    "sns.heatmap(correlation_matrix, annot=True, cmap='coolwarm')\n",
    "\n",
    "# Set the title of the plot\n",
    "plt.title('Correlation Matrix Heatmap')\n",
    "\n",
    "# Show the plot\n",
    "plt.show()"
   ]
  },
  {
   "cell_type": "markdown",
   "id": "994882d0",
   "metadata": {},
   "source": [
    "<h3> The range"
   ]
  },
  {
   "cell_type": "code",
   "execution_count": 67,
   "id": "8e6288cc",
   "metadata": {},
   "outputs": [
    {
     "data": {
      "text/html": [
       "<div>\n",
       "<style scoped>\n",
       "    .dataframe tbody tr th:only-of-type {\n",
       "        vertical-align: middle;\n",
       "    }\n",
       "\n",
       "    .dataframe tbody tr th {\n",
       "        vertical-align: top;\n",
       "    }\n",
       "\n",
       "    .dataframe thead th {\n",
       "        text-align: right;\n",
       "    }\n",
       "</style>\n",
       "<table border=\"1\" class=\"dataframe\">\n",
       "  <thead>\n",
       "    <tr style=\"text-align: right;\">\n",
       "      <th></th>\n",
       "      <th>min</th>\n",
       "      <th>max</th>\n",
       "      <th>range</th>\n",
       "    </tr>\n",
       "  </thead>\n",
       "  <tbody>\n",
       "    <tr>\n",
       "      <th>BasePay</th>\n",
       "      <td>6.04</td>\n",
       "      <td>319275.01</td>\n",
       "      <td>319268.97</td>\n",
       "    </tr>\n",
       "    <tr>\n",
       "      <th>OvertimePay</th>\n",
       "      <td>-0.01</td>\n",
       "      <td>245131.88</td>\n",
       "      <td>245131.89</td>\n",
       "    </tr>\n",
       "    <tr>\n",
       "      <th>OtherPay</th>\n",
       "      <td>-7058.59</td>\n",
       "      <td>400184.25</td>\n",
       "      <td>407242.84</td>\n",
       "    </tr>\n",
       "    <tr>\n",
       "      <th>Benefits</th>\n",
       "      <td>0.00</td>\n",
       "      <td>96570.66</td>\n",
       "      <td>96570.66</td>\n",
       "    </tr>\n",
       "    <tr>\n",
       "      <th>TotalPay</th>\n",
       "      <td>15.50</td>\n",
       "      <td>567595.43</td>\n",
       "      <td>567579.93</td>\n",
       "    </tr>\n",
       "    <tr>\n",
       "      <th>TotalPayBenefits</th>\n",
       "      <td>15.66</td>\n",
       "      <td>567595.43</td>\n",
       "      <td>567579.77</td>\n",
       "    </tr>\n",
       "  </tbody>\n",
       "</table>\n",
       "</div>"
      ],
      "text/plain": [
       "                      min        max      range\n",
       "BasePay              6.04  319275.01  319268.97\n",
       "OvertimePay         -0.01  245131.88  245131.89\n",
       "OtherPay         -7058.59  400184.25  407242.84\n",
       "Benefits             0.00   96570.66   96570.66\n",
       "TotalPay            15.50  567595.43  567579.93\n",
       "TotalPayBenefits    15.66  567595.43  567579.77"
      ]
     },
     "execution_count": 67,
     "metadata": {},
     "output_type": "execute_result"
    }
   ],
   "source": [
    "range1 = df_new.describe().loc[['min', 'max'], columns_of_interest].transpose()\n",
    "range1['range'] = range1['max'] - range1['min']\n",
    "range1"
   ]
  },
  {
   "cell_type": "markdown",
   "id": "49bea82f",
   "metadata": {},
   "source": [
    "<h2> 4. Calculating the measures of central tendency"
   ]
  },
  {
   "cell_type": "code",
   "execution_count": 68,
   "id": "4e96c428",
   "metadata": {},
   "outputs": [],
   "source": [
    "df_ct = pd.DataFrame() # ct stands for central tendency\n"
   ]
  },
  {
   "cell_type": "code",
   "execution_count": 69,
   "id": "a0301b4a",
   "metadata": {},
   "outputs": [],
   "source": [
    "dfff = ['BasePay', 'OvertimePay', 'OtherPay', 'Benefits', 'TotalPay', 'TotalPayBenefits']\n",
    "df_ct = df_new.loc[:, dfff].mode().transpose().rename(columns = {0: 'mode'})"
   ]
  },
  {
   "cell_type": "code",
   "execution_count": 70,
   "id": "8033b6b0",
   "metadata": {},
   "outputs": [
    {
     "data": {
      "text/html": [
       "<div>\n",
       "<style scoped>\n",
       "    .dataframe tbody tr th:only-of-type {\n",
       "        vertical-align: middle;\n",
       "    }\n",
       "\n",
       "    .dataframe tbody tr th {\n",
       "        vertical-align: top;\n",
       "    }\n",
       "\n",
       "    .dataframe thead th {\n",
       "        text-align: right;\n",
       "    }\n",
       "</style>\n",
       "<table border=\"1\" class=\"dataframe\">\n",
       "  <thead>\n",
       "    <tr style=\"text-align: right;\">\n",
       "      <th></th>\n",
       "      <th>mode</th>\n",
       "      <th>mean</th>\n",
       "      <th>median</th>\n",
       "    </tr>\n",
       "  </thead>\n",
       "  <tbody>\n",
       "    <tr>\n",
       "      <th>BasePay</th>\n",
       "      <td>54703.0</td>\n",
       "      <td>66917.130321</td>\n",
       "      <td>65258.010</td>\n",
       "    </tr>\n",
       "    <tr>\n",
       "      <th>OvertimePay</th>\n",
       "      <td>0.0</td>\n",
       "      <td>5130.611405</td>\n",
       "      <td>0.000</td>\n",
       "    </tr>\n",
       "    <tr>\n",
       "      <th>OtherPay</th>\n",
       "      <td>0.0</td>\n",
       "      <td>3638.405132</td>\n",
       "      <td>809.710</td>\n",
       "    </tr>\n",
       "    <tr>\n",
       "      <th>Benefits</th>\n",
       "      <td>0.0</td>\n",
       "      <td>19142.601124</td>\n",
       "      <td>23935.185</td>\n",
       "    </tr>\n",
       "    <tr>\n",
       "      <th>TotalPay</th>\n",
       "      <td>18594.0</td>\n",
       "      <td>75686.146858</td>\n",
       "      <td>72094.010</td>\n",
       "    </tr>\n",
       "    <tr>\n",
       "      <th>TotalPayBenefits</th>\n",
       "      <td>123290.7</td>\n",
       "      <td>94828.747982</td>\n",
       "      <td>93298.930</td>\n",
       "    </tr>\n",
       "  </tbody>\n",
       "</table>\n",
       "</div>"
      ],
      "text/plain": [
       "                      mode          mean     median\n",
       "BasePay            54703.0  66917.130321  65258.010\n",
       "OvertimePay            0.0   5130.611405      0.000\n",
       "OtherPay               0.0   3638.405132    809.710\n",
       "Benefits               0.0  19142.601124  23935.185\n",
       "TotalPay           18594.0  75686.146858  72094.010\n",
       "TotalPayBenefits  123290.7  94828.747982  93298.930"
      ]
     },
     "execution_count": 70,
     "metadata": {},
     "output_type": "execute_result"
    }
   ],
   "source": [
    "df_ct['mean'] = df_new.loc[: , columns_of_interest].mean()\n",
    "df_ct['median'] = df_new.loc[: , columns_of_interest].median()\n",
    "\n",
    "df_ct"
   ]
  },
  {
   "cell_type": "markdown",
   "id": "03108b97",
   "metadata": {},
   "source": [
    "<h2> 5. Applying the describe method"
   ]
  },
  {
   "cell_type": "code",
   "execution_count": 71,
   "id": "e9ed4b19",
   "metadata": {},
   "outputs": [
    {
     "data": {
      "text/html": [
       "<div>\n",
       "<style scoped>\n",
       "    .dataframe tbody tr th:only-of-type {\n",
       "        vertical-align: middle;\n",
       "    }\n",
       "\n",
       "    .dataframe tbody tr th {\n",
       "        vertical-align: top;\n",
       "    }\n",
       "\n",
       "    .dataframe thead th {\n",
       "        text-align: right;\n",
       "    }\n",
       "</style>\n",
       "<table border=\"1\" class=\"dataframe\">\n",
       "  <thead>\n",
       "    <tr style=\"text-align: right;\">\n",
       "      <th></th>\n",
       "      <th>BasePay</th>\n",
       "      <th>OvertimePay</th>\n",
       "      <th>OtherPay</th>\n",
       "      <th>Benefits</th>\n",
       "      <th>TotalPay</th>\n",
       "      <th>TotalPayBenefits</th>\n",
       "    </tr>\n",
       "  </thead>\n",
       "  <tbody>\n",
       "    <tr>\n",
       "      <th>count</th>\n",
       "      <td>146736.000000</td>\n",
       "      <td>146736.000000</td>\n",
       "      <td>146736.000000</td>\n",
       "      <td>146736.000000</td>\n",
       "      <td>146736.000000</td>\n",
       "      <td>146736.000000</td>\n",
       "    </tr>\n",
       "    <tr>\n",
       "      <th>mean</th>\n",
       "      <td>66917.130321</td>\n",
       "      <td>5130.611405</td>\n",
       "      <td>3638.405132</td>\n",
       "      <td>19142.601124</td>\n",
       "      <td>75686.146858</td>\n",
       "      <td>94828.747982</td>\n",
       "    </tr>\n",
       "    <tr>\n",
       "      <th>std</th>\n",
       "      <td>42491.578949</td>\n",
       "      <td>11513.508640</td>\n",
       "      <td>7964.167855</td>\n",
       "      <td>17165.560305</td>\n",
       "      <td>50175.006143</td>\n",
       "      <td>62384.972357</td>\n",
       "    </tr>\n",
       "    <tr>\n",
       "      <th>min</th>\n",
       "      <td>6.040000</td>\n",
       "      <td>-0.010000</td>\n",
       "      <td>-7058.590000</td>\n",
       "      <td>0.000000</td>\n",
       "      <td>15.500000</td>\n",
       "      <td>15.660000</td>\n",
       "    </tr>\n",
       "    <tr>\n",
       "      <th>25%</th>\n",
       "      <td>35411.025000</td>\n",
       "      <td>0.000000</td>\n",
       "      <td>0.000000</td>\n",
       "      <td>0.000000</td>\n",
       "      <td>38782.057500</td>\n",
       "      <td>47047.372500</td>\n",
       "    </tr>\n",
       "    <tr>\n",
       "      <th>50%</th>\n",
       "      <td>65258.010000</td>\n",
       "      <td>0.000000</td>\n",
       "      <td>809.710000</td>\n",
       "      <td>23935.185000</td>\n",
       "      <td>72094.010000</td>\n",
       "      <td>93298.930000</td>\n",
       "    </tr>\n",
       "    <tr>\n",
       "      <th>75%</th>\n",
       "      <td>94984.072500</td>\n",
       "      <td>4768.055000</td>\n",
       "      <td>4250.000000</td>\n",
       "      <td>33569.352500</td>\n",
       "      <td>106492.070000</td>\n",
       "      <td>133526.355000</td>\n",
       "    </tr>\n",
       "    <tr>\n",
       "      <th>max</th>\n",
       "      <td>319275.010000</td>\n",
       "      <td>245131.880000</td>\n",
       "      <td>400184.250000</td>\n",
       "      <td>96570.660000</td>\n",
       "      <td>567595.430000</td>\n",
       "      <td>567595.430000</td>\n",
       "    </tr>\n",
       "  </tbody>\n",
       "</table>\n",
       "</div>"
      ],
      "text/plain": [
       "             BasePay    OvertimePay       OtherPay       Benefits  \\\n",
       "count  146736.000000  146736.000000  146736.000000  146736.000000   \n",
       "mean    66917.130321    5130.611405    3638.405132   19142.601124   \n",
       "std     42491.578949   11513.508640    7964.167855   17165.560305   \n",
       "min         6.040000      -0.010000   -7058.590000       0.000000   \n",
       "25%     35411.025000       0.000000       0.000000       0.000000   \n",
       "50%     65258.010000       0.000000     809.710000   23935.185000   \n",
       "75%     94984.072500    4768.055000    4250.000000   33569.352500   \n",
       "max    319275.010000  245131.880000  400184.250000   96570.660000   \n",
       "\n",
       "            TotalPay  TotalPayBenefits  \n",
       "count  146736.000000     146736.000000  \n",
       "mean    75686.146858      94828.747982  \n",
       "std     50175.006143      62384.972357  \n",
       "min        15.500000         15.660000  \n",
       "25%     38782.057500      47047.372500  \n",
       "50%     72094.010000      93298.930000  \n",
       "75%    106492.070000     133526.355000  \n",
       "max    567595.430000     567595.430000  "
      ]
     },
     "execution_count": 71,
     "metadata": {},
     "output_type": "execute_result"
    }
   ],
   "source": [
    "df_new[columns_of_interest].describe()"
   ]
  },
  {
   "cell_type": "markdown",
   "id": "2a843977",
   "metadata": {},
   "source": [
    "<h2> 6. Building histograms"
   ]
  },
  {
   "cell_type": "code",
   "execution_count": 72,
   "id": "fa0d1821",
   "metadata": {},
   "outputs": [
    {
     "data": {
      "image/png": "[encoded data removed]",
      "text/plain": [
       "<Figure size 432x288 with 1 Axes>"
      ]
     },
     "metadata": {
      "needs_background": "light"
     },
     "output_type": "display_data"
    }
   ],
   "source": [
    "df_new[['BasePay']].hist()\n",
    "plt.show()"
   ]
  },
  {
   "cell_type": "code",
   "execution_count": 73,
   "id": "6c5751a2",
   "metadata": {},
   "outputs": [
    {
     "data": {
      "image/png": "[encoded data removed]",
      "text/plain": [
       "<Figure size 432x288 with 1 Axes>"
      ]
     },
     "metadata": {
      "needs_background": "light"
     },
     "output_type": "display_data"
    }
   ],
   "source": [
    "df_new[['OvertimePay']].hist()\n",
    "plt.show()"
   ]
  },
  {
   "cell_type": "code",
   "execution_count": 74,
   "id": "76fce09f",
   "metadata": {},
   "outputs": [
    {
     "data": {
      "image/png": "[encoded data removed]",
      "text/plain": [
       "<Figure size 432x288 with 1 Axes>"
      ]
     },
     "metadata": {
      "needs_background": "light"
     },
     "output_type": "display_data"
    }
   ],
   "source": [
    "df_new[['OtherPay']].hist()\n",
    "plt.show()"
   ]
  },
  {
   "cell_type": "code",
   "execution_count": 75,
   "id": "e8b46d7f",
   "metadata": {},
   "outputs": [
    {
     "data": {
      "image/png": "[encoded data removed]",
      "text/plain": [
       "<Figure size 432x288 with 1 Axes>"
      ]
     },
     "metadata": {
      "needs_background": "light"
     },
     "output_type": "display_data"
    }
   ],
   "source": [
    "df_new[['Benefits']].hist()\n",
    "plt.show()"
   ]
  },
  {
   "cell_type": "code",
   "execution_count": 76,
   "id": "07b481dc",
   "metadata": {},
   "outputs": [
    {
     "data": {
      "image/png": "[encoded data removed]",
      "text/plain": [
       "<Figure size 432x288 with 1 Axes>"
      ]
     },
     "metadata": {
      "needs_background": "light"
     },
     "output_type": "display_data"
    }
   ],
   "source": [
    "df_new[['TotalPay']].hist()\n",
    "plt.show()"
   ]
  },
  {
   "cell_type": "code",
   "execution_count": 77,
   "id": "aaab9af7",
   "metadata": {},
   "outputs": [
    {
     "data": {
      "image/png": "[encoded data removed]",
      "text/plain": [
       "<Figure size 432x288 with 1 Axes>"
      ]
     },
     "metadata": {
      "needs_background": "light"
     },
     "output_type": "display_data"
    }
   ],
   "source": [
    "df_new[['TotalPayBenefits']].hist()\n",
    "plt.show()"
   ]
  },
  {
   "cell_type": "markdown",
   "id": "db7d65d4",
   "metadata": {},
   "source": [
    "<h2> Building boxplots"
   ]
  },
  {
   "cell_type": "code",
   "execution_count": 78,
   "id": "5a592fb5",
   "metadata": {},
   "outputs": [
    {
     "data": {
      "image/png": "[encoded data removed]",
      "text/plain": [
       "<Figure size 432x288 with 1 Axes>"
      ]
     },
     "metadata": {
      "needs_background": "light"
     },
     "output_type": "display_data"
    }
   ],
   "source": [
    "df_new.boxplot(columns_of_interest)\n",
    "plt.xticks(rotation=45, ha='right')\n",
    "plt.show()"
   ]
  },
  {
   "cell_type": "code",
   "execution_count": 79,
   "id": "6faeb7e8",
   "metadata": {
    "scrolled": false
   },
   "outputs": [
    {
     "data": {
      "image/png": "[encoded data removed]",
      "text/plain": [
       "<Figure size 864x1800 with 6 Axes>"
      ]
     },
     "metadata": {
      "needs_background": "light"
     },
     "output_type": "display_data"
    }
   ],
   "source": [
    "fig, axs = plt.subplots(2, 3, figsize=(12, 25))\n",
    "\n",
    "# Plot boxplots\n",
    "columns = ['BasePay', 'OvertimePay', 'OtherPay', 'Benefits', 'TotalPay', 'TotalPayBenefits']\n",
    "axs = axs.flatten()  # Flatten the subplots array for easier indexing\n",
    "\n",
    "for i, col in enumerate(columns):\n",
    "    df_new.boxplot(column=col, ax=axs[i])\n",
    "    axs[i].set_xticklabels(axs[i].get_xticklabels())\n",
    "\n",
    "# Adjust spacing between subplots\n",
    "plt.tight_layout()\n",
    "\n",
    "# Show the plot\n",
    "plt.show()"
   ]
  },
  {
   "cell_type": "markdown",
   "id": "42771e38",
   "metadata": {},
   "source": [
    "<h2> 8. Calculating IQR (Interquirtile range)"
   ]
  },
  {
   "cell_type": "markdown",
   "id": "a21520a8",
   "metadata": {},
   "source": [
    "In the following code, using describe method on `df_new` dataset iqr or interquirtile range was calculated and stored in another small dataframe `df_iqr` along with 25% and 75% percent ranges."
   ]
  },
  {
   "cell_type": "code",
   "execution_count": 80,
   "id": "d5619ea8",
   "metadata": {},
   "outputs": [
    {
     "data": {
      "text/html": [
       "<div>\n",
       "<style scoped>\n",
       "    .dataframe tbody tr th:only-of-type {\n",
       "        vertical-align: middle;\n",
       "    }\n",
       "\n",
       "    .dataframe tbody tr th {\n",
       "        vertical-align: top;\n",
       "    }\n",
       "\n",
       "    .dataframe thead th {\n",
       "        text-align: right;\n",
       "    }\n",
       "</style>\n",
       "<table border=\"1\" class=\"dataframe\">\n",
       "  <thead>\n",
       "    <tr style=\"text-align: right;\">\n",
       "      <th></th>\n",
       "      <th>25%</th>\n",
       "      <th>75%</th>\n",
       "      <th>iqr</th>\n",
       "    </tr>\n",
       "  </thead>\n",
       "  <tbody>\n",
       "    <tr>\n",
       "      <th>BasePay</th>\n",
       "      <td>35411.0250</td>\n",
       "      <td>94984.0725</td>\n",
       "      <td>59573.0475</td>\n",
       "    </tr>\n",
       "    <tr>\n",
       "      <th>OvertimePay</th>\n",
       "      <td>0.0000</td>\n",
       "      <td>4768.0550</td>\n",
       "      <td>4768.0550</td>\n",
       "    </tr>\n",
       "    <tr>\n",
       "      <th>OtherPay</th>\n",
       "      <td>0.0000</td>\n",
       "      <td>4250.0000</td>\n",
       "      <td>4250.0000</td>\n",
       "    </tr>\n",
       "    <tr>\n",
       "      <th>Benefits</th>\n",
       "      <td>0.0000</td>\n",
       "      <td>33569.3525</td>\n",
       "      <td>33569.3525</td>\n",
       "    </tr>\n",
       "    <tr>\n",
       "      <th>TotalPay</th>\n",
       "      <td>38782.0575</td>\n",
       "      <td>106492.0700</td>\n",
       "      <td>67710.0125</td>\n",
       "    </tr>\n",
       "    <tr>\n",
       "      <th>TotalPayBenefits</th>\n",
       "      <td>47047.3725</td>\n",
       "      <td>133526.3550</td>\n",
       "      <td>86478.9825</td>\n",
       "    </tr>\n",
       "  </tbody>\n",
       "</table>\n",
       "</div>"
      ],
      "text/plain": [
       "                         25%          75%         iqr\n",
       "BasePay           35411.0250   94984.0725  59573.0475\n",
       "OvertimePay           0.0000    4768.0550   4768.0550\n",
       "OtherPay              0.0000    4250.0000   4250.0000\n",
       "Benefits              0.0000   33569.3525  33569.3525\n",
       "TotalPay          38782.0575  106492.0700  67710.0125\n",
       "TotalPayBenefits  47047.3725  133526.3550  86478.9825"
      ]
     },
     "execution_count": 80,
     "metadata": {},
     "output_type": "execute_result"
    }
   ],
   "source": [
    "df_iqr = df_new[columns_of_interest].describe().transpose()[['25%', '75%']]\n",
    "df_iqr['iqr'] = df_iqr['75%'] - df_iqr['25%']\n",
    "df_iqr "
   ]
  },
  {
   "cell_type": "markdown",
   "id": "011f9d35",
   "metadata": {},
   "source": [
    "<h2> 9. Conclusion"
   ]
  },
  {
   "cell_type": "markdown",
   "id": "235d3130",
   "metadata": {},
   "source": [
    "It was a great experience! However, there are some outliers present in the data. These outliers can be justified in various ways. Some high salaries might be attributed to individuals holding top positions within the organization. Additionally, certain employees could have received higher pay due to performance-related bonuses or their commitment to working extra hours. These justifiable cases of outliers exist in the dataset.\n",
    "\n",
    "As part of this project, the decision has been made not to drop all outliers from the dataset, as the author believes that it would not be reasonable. Removing outliers can significantly affect the statistical calculations and might lead to the loss of valuable insights from the data. Instead, the author will keep the outliers in the dataset and consider them as valid data points representing unique situations.\n",
    "\n",
    "Looking ahead, the author may return to the dataset in the future for further analysis with a fresh perspective and additional knowledge. "
   ]
  }
 ],
 "metadata": {
  "kernelspec": {
   "display_name": "Python 3",
   "language": "python",
   "name": "python3"
  },
  "language_info": {
   "codemirror_mode": {
    "name": "ipython",
    "version": 3
   },
   "file_extension": ".py",
   "mimetype": "text/x-python",
   "name": "python",
   "nbconvert_exporter": "python",
   "pygments_lexer": "ipython3",
   "version": "3.8.8"
  }
 },
 "nbformat": 4,
 "nbformat_minor": 5
}
